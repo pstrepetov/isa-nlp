{
 "cells": [
  {
   "cell_type": "markdown",
   "metadata": {
    "id": "wP-KngCLKMCm"
   },
   "source": [
    "## Дискурсивный анализ текстов\n",
    "\n"
   ]
  },
  {
   "cell_type": "markdown",
   "metadata": {
    "id": "cRFQZp4BSiou"
   },
   "source": [
    "## Дискурсивная сегментация\n"
   ]
  },
  {
   "cell_type": "code",
   "execution_count": 1,
   "metadata": {
    "id": "hjGemMk7L3w5"
   },
   "outputs": [
    {
     "name": "stdout",
     "output_type": "stream",
     "text": [
      "Requirement already satisfied: conllu in /home/peter/p/tf-demo/lib/python3.9/site-packages (4.5.2)\n",
      "\n",
      "\u001b[1m[\u001b[0m\u001b[34;49mnotice\u001b[0m\u001b[1;39;49m]\u001b[0m\u001b[39;49m A new release of pip available: \u001b[0m\u001b[31;49m22.2.2\u001b[0m\u001b[39;49m -> \u001b[0m\u001b[32;49m22.3.1\u001b[0m\n",
      "\u001b[1m[\u001b[0m\u001b[34;49mnotice\u001b[0m\u001b[1;39;49m]\u001b[0m\u001b[39;49m To update, run: \u001b[0m\u001b[32;49mpip install --upgrade pip\u001b[0m\n"
     ]
    }
   ],
   "source": [
    "! pip install conllu"
   ]
  },
  {
   "cell_type": "code",
   "execution_count": 2,
   "metadata": {
    "colab": {
     "base_uri": "https://localhost:8080/"
    },
    "executionInfo": {
     "elapsed": 863,
     "status": "ok",
     "timestamp": 1671648357737,
     "user": {
      "displayName": "Elena Chistova",
      "userId": "12812817226965674873"
     },
     "user_tz": -180
    },
    "id": "ek-CbHH-Siow",
    "outputId": "566511c2-de42-464a-d0f7-1b4b9fe148b6",
    "scrolled": true
   },
   "outputs": [
    {
     "name": "stdout",
     "output_type": "stream",
     "text": [
      "Will not apply HSTS. The HSTS database must be a regular and non-world-writable file.\n",
      "ERROR: could not open HSTS store at '/home/peter/.wget-hsts'. HSTS will be disabled.\n",
      "--2022-12-26 21:01:39--  https://www.dropbox.com/s/3rgfad28lh0m7w2/rstreebank_segmentation.zip\n",
      "Resolving www.dropbox.com (www.dropbox.com)... 162.125.70.18, 2620:100:6026:18::a27d:4612\n",
      "Connecting to www.dropbox.com (www.dropbox.com)|162.125.70.18|:443... connected.\n",
      "HTTP request sent, awaiting response... 302 Found\n",
      "Location: /s/raw/3rgfad28lh0m7w2/rstreebank_segmentation.zip [following]\n",
      "--2022-12-26 21:01:40--  https://www.dropbox.com/s/raw/3rgfad28lh0m7w2/rstreebank_segmentation.zip\n",
      "Reusing existing connection to www.dropbox.com:443.\n",
      "HTTP request sent, awaiting response... 302 Found\n",
      "Location: https://uc92e2e0f689719891f8fd652dc1.dl.dropboxusercontent.com/cd/0/inline/BzUYrNn447WAEjAdMY4X1fbiPLYH05bUIukYyg9Xdb3PeyRyD_1DZcBj5tbpVoczVCM6o6qhOnhmCBZd9vLWJFDm3rMfpK7_MRNdWjjJNqHYDCPSrTglWoOHALYheMJK65MV4iDEjAA7H-uejB-nlR0_SbO_DiR6cfpVV3VA8JxwMg/file# [following]\n",
      "--2022-12-26 21:01:40--  https://uc92e2e0f689719891f8fd652dc1.dl.dropboxusercontent.com/cd/0/inline/BzUYrNn447WAEjAdMY4X1fbiPLYH05bUIukYyg9Xdb3PeyRyD_1DZcBj5tbpVoczVCM6o6qhOnhmCBZd9vLWJFDm3rMfpK7_MRNdWjjJNqHYDCPSrTglWoOHALYheMJK65MV4iDEjAA7H-uejB-nlR0_SbO_DiR6cfpVV3VA8JxwMg/file\n",
      "Resolving uc92e2e0f689719891f8fd652dc1.dl.dropboxusercontent.com (uc92e2e0f689719891f8fd652dc1.dl.dropboxusercontent.com)... 162.125.70.15, 2620:100:6026:15::a27d:460f\n",
      "Connecting to uc92e2e0f689719891f8fd652dc1.dl.dropboxusercontent.com (uc92e2e0f689719891f8fd652dc1.dl.dropboxusercontent.com)|162.125.70.15|:443... connected.\n",
      "HTTP request sent, awaiting response... 302 Found\n",
      "Location: /cd/0/inline2/BzVItOmWY171Iq7c4_TClEfBJL9TnUx5h5whAKes3gyZPL9FmPYJRLLHyToV0U6PEI-mGE581PAtsH1Jm0499qfF_eXPqhOD1vgF42O-M1f1-C9JhF24MvKE4UZE_kKwYAXVoidUUtlwCZhbwnsd2uWj5hdF1BP5WdvN63IfN7CUn6k0abDYu-LyXK1dcATgSO07pr2Ve27Ct708o_8-DVQQdb5lAImLBqXBajy08Hjf-BMt3M1Hs17B3ouBZDc5eKJCD2nBq18DbmdLDgD9mhyWn_weFbD2bglVTQHje8ydmIJBNcCFaAA9eoQS_llkAzamnCzWPl1-rK7Wa-KvcdzErwW81aIDKoTW9aC6ISrgYy210ygaW5xQNSZj406uRnysK1UdHdOX0aEl9-Zl6fdh83nwOATx4AEwcU0yiQjC7w/file [following]\n",
      "--2022-12-26 21:01:41--  https://uc92e2e0f689719891f8fd652dc1.dl.dropboxusercontent.com/cd/0/inline2/BzVItOmWY171Iq7c4_TClEfBJL9TnUx5h5whAKes3gyZPL9FmPYJRLLHyToV0U6PEI-mGE581PAtsH1Jm0499qfF_eXPqhOD1vgF42O-M1f1-C9JhF24MvKE4UZE_kKwYAXVoidUUtlwCZhbwnsd2uWj5hdF1BP5WdvN63IfN7CUn6k0abDYu-LyXK1dcATgSO07pr2Ve27Ct708o_8-DVQQdb5lAImLBqXBajy08Hjf-BMt3M1Hs17B3ouBZDc5eKJCD2nBq18DbmdLDgD9mhyWn_weFbD2bglVTQHje8ydmIJBNcCFaAA9eoQS_llkAzamnCzWPl1-rK7Wa-KvcdzErwW81aIDKoTW9aC6ISrgYy210ygaW5xQNSZj406uRnysK1UdHdOX0aEl9-Zl6fdh83nwOATx4AEwcU0yiQjC7w/file\n",
      "Reusing existing connection to uc92e2e0f689719891f8fd652dc1.dl.dropboxusercontent.com:443.\n",
      "HTTP request sent, awaiting response... 200 OK\n",
      "Length: 3002553 (2.9M) [application/zip]\n",
      "Saving to: ‘rstreebank_segmentation.zip.1’\n",
      "\n",
      "rstreebank_segmenta 100%[===================>]   2.86M   843KB/s    in 3.5s    \n",
      "\n",
      "2022-12-26 21:01:45 (843 KB/s) - ‘rstreebank_segmentation.zip.1’ saved [3002553/3002553]\n",
      "\n",
      "Archive:  rstreebank_segmentation.zip\n",
      "replace rus.rst.rrt_dev.conll? [y]es, [n]o, [A]ll, [N]one, [r]ename: ^C\n"
     ]
    }
   ],
   "source": [
    "! wget https://www.dropbox.com/s/3rgfad28lh0m7w2/rstreebank_segmentation.zip && unzip rstreebank_segmentation.zip"
   ]
  },
  {
   "cell_type": "code",
   "execution_count": 1,
   "metadata": {
    "colab": {
     "base_uri": "https://localhost:8080/"
    },
    "executionInfo": {
     "elapsed": 274,
     "status": "ok",
     "timestamp": 1671648368189,
     "user": {
      "displayName": "Elena Chistova",
      "userId": "12812817226965674873"
     },
     "user_tz": -180
    },
    "id": "R-OHNt3ESio2",
    "outputId": "215f9f9f-7ca1-441b-e684-85fbf9fdb3c6"
   },
   "outputs": [
    {
     "name": "stdout",
     "output_type": "stream",
     "text": [
      "# newdoc id = data_ru/test.blogs_93\r\n",
      "1\t_html_\t_html_\tX\t_\tForeign=Yes\t22\tnsubj\t_\tBeginSeg=Yes\r\n",
      "2\t:\t:\tPUNCT\t_\t_\t1\tpunct\t_\t_\r\n",
      "3\t/\t/\tPUNCT\t_\t_\t1\tpunct\t_\t_\r\n",
      "4\t/\t/\tPUNCT\t_\t_\t5\tpunct\t_\t_\r\n",
      "5\tru-travel\tru-travel\tX\t_\tForeign=Yes\t1\tflat:foreign\t_\t_\r\n",
      "6\t.\t.\tPUNCT\t_\t_\t1\tpunct\t_\t_\r\n",
      "7\tlivejournal\tlivejournal\tPROPN\t_\tForeign=Yes\t1\tappos\t_\t_\r\n",
      "8\t.\t.\tPUNCT\t_\t_\t1\tpunct\t_\t_\r\n",
      "9\tcom\tcom\tX\t_\tForeign=Yes\t1\tappos\t_\t_\r\n",
      "10\t/\t/\tPUNCT\t_\t_\t11\tpunct\t_\t_\r\n",
      "11\t33766823\t33766823\tNUM\t_\t_\t9\tappos\t_\t_\r\n",
      "12\t.\t.\tPUNCT\t_\t_\t1\tpunct\t_\t_\r\n",
      "13\thtml\thtml\tPROPN\t_\tForeign=Yes\t22\tnsubj\t_\t_\r\n",
      "\r\n",
      "# newdoc id = data_ru/test.blogs_93\r\n",
      "1\tМаврикий\tмаврикий\tPROPN\t_\tAnimacу=Anim|Case=Nom|Gender=Masc|Number=Sing\t13\tappos\t_\tBeginSeg=Yes\r\n",
      "\r\n",
      "# newdoc id = data_ru/test.blogs_93\r\n",
      "1\tПосле\tпосле\tADP\t_\t_\t16\tcase\t_\tBeginSeg=Yes\r\n",
      "2\tпоездки\tпоездка\tNOUN\t_\tAnimacу=Inan|Case=Gen|Gender=Fem|Number=Sing\t22\tobl\t_\t_\r\n",
      "3\tв\tв\tADP\t_\t_\t18\tcase\t_\t_\r\n",
      "4\t2017\t2017\tADJ\t_\t_\t16\tnmod\t_\t_\r\n",
      "5\tна\tна\tADP\t_\t_\t20\tcase\t_\t_\r\n",
      "6\tБали\tбали\tPROPN\t_\tAnimacу=Inan|Case=Loc|Gender=Masc|Number=Sing\t16\tnmod\t_\t_\r\n",
      "7\tя\tя\tPRON\t_\tCase=Nom|Number=Sing|Person=First\t22\tnsubj\t_\t_\r\n",
      "8\tвспомнил\tвспомнить\tVERB\t_\tAspect=Perf|Gender=Masc|Mood=Ind|Number=Sing|Tense=Past|VerbForm=Fin|Voice=Act\t0\tROOT\t_\t_\r\n",
      "9\t,\t,\tPUNCT\t_\t_\t32\tpunct\t_\t_\r\n",
      "10\tчто\tчто\tSCONJ\t_\t_\t32\tmark\t_\tBeginSeg=Yes\r\n",
      "11\tотдыхать\tотдыхать\tVERB\t_\tAspect=Imp|VerbForm=Inf|Voice=Act\t32\tcsubj\t_\t_\r\n",
      "12\tв\tв\tADP\t_\t_\t29\tcase\t_\t_\r\n",
      "13\tдалеких\tдалекий\tADJ\t_\tCase=Loc|Degree=Pos|Number=Plur\t29\tamod\t_\t_\r\n",
      "14\tжарких\tжаркий\tADJ\t_\tCase=Loc|Degree=Pos|Number=Plur\t29\tamod\t_\t_\r\n",
      "15\tстранах\tстрана\tNOUN\t_\tAnimacу=Inan|Case=Loc|Gender=Fem|Number=Plur\t25\tobl\t_\t_\r\n",
      "16\t-\t-\tPUNCT\t_\t_\t25\tpunct\t_\t_\r\n",
      "17\tэто\tэто\tPART\t_\t_\t32\tnsubj\t_\t_\r\n",
      "18\tхорошо\tхороший\tADJ\t_\tDegree=Pos|Gender=Neut|Number=Sing\t22\tccomp\t_\t_\r\n",
      "19\tи\tи\tCCONJ\t_\t_\t34\tcc\t_\t_\r\n",
      "20\tприятно\tприятный\tADJ\t_\tDegree=Pos|Gender=Neut|Number=Sing\t32\tconj\t_\t_\r\n",
      "21\t,\t,\tPUNCT\t_\t_\t39\tpunct\t_\t_\r\n"
     ]
    }
   ],
   "source": [
    "! head -40 rus.rst.rrt_test.conll"
   ]
  },
  {
   "cell_type": "code",
   "execution_count": 2,
   "metadata": {
    "id": "pIlKHQswSio6"
   },
   "outputs": [],
   "source": [
    "import conllu\n",
    "\n",
    "test_sentences = conllu.parse(open(\"rus.rst.rrt_test.conll\").read())\n",
    "train_sentences = conllu.parse(open(\"rus.rst.rrt_train.conll\").read())"
   ]
  },
  {
   "cell_type": "code",
   "execution_count": 3,
   "metadata": {
    "colab": {
     "base_uri": "https://localhost:8080/"
    },
    "id": "uAT654crSio8",
    "outputId": "b880f818-5bc9-4d43-d2ee-2166fcae81d0",
    "scrolled": true
   },
   "outputs": [
    {
     "data": {
      "text/plain": [
       "TokenList<_html_, :, /, /, ru-travel, ., livejournal, ., com, /, 33766823, ., html, metadata={newdoc id: \"data_ru/test.blogs_93\"}>"
      ]
     },
     "execution_count": 3,
     "metadata": {},
     "output_type": "execute_result"
    }
   ],
   "source": [
    "test_sentences[0]"
   ]
  },
  {
   "cell_type": "code",
   "execution_count": 4,
   "metadata": {
    "colab": {
     "base_uri": "https://localhost:8080/"
    },
    "id": "ZbLKjWETSipA",
    "outputId": "b58e371f-63b2-4100-9e4d-775f88250881",
    "scrolled": true
   },
   "outputs": [
    {
     "name": "stdout",
     "output_type": "stream",
     "text": [
      "1568 11587\n"
     ]
    }
   ],
   "source": [
    "print(len(test_sentences), len(train_sentences))"
   ]
  },
  {
   "cell_type": "code",
   "execution_count": 5,
   "metadata": {
    "colab": {
     "base_uri": "https://localhost:8080/"
    },
    "id": "CLmj11LFSipD",
    "outputId": "d431d4d1-dc61-4be9-8e05-015fb0d967ca"
   },
   "outputs": [
    {
     "data": {
      "text/plain": [
       "{'id': 2,\n",
       " 'form': 'поездки',\n",
       " 'lemma': 'поездка',\n",
       " 'upos': 'NOUN',\n",
       " 'xpos': None,\n",
       " 'feats': {'Animacу': 'Inan',\n",
       "  'Case': 'Gen',\n",
       "  'Gender': 'Fem',\n",
       "  'Number': 'Sing'},\n",
       " 'head': 22,\n",
       " 'deprel': 'obl',\n",
       " 'deps': None,\n",
       " 'misc': None}"
      ]
     },
     "execution_count": 5,
     "metadata": {},
     "output_type": "execute_result"
    }
   ],
   "source": [
    "test_sentences[2][1]"
   ]
  },
  {
   "cell_type": "code",
   "execution_count": 6,
   "metadata": {},
   "outputs": [],
   "source": [
    "test_sent_list = list(test_sentences)\n",
    "train_sent_list = list(train_sentences)\n",
    "\n",
    "def get_labels(s_list):\n",
    "    labels = []\n",
    "    for sent in s_list:\n",
    "        sent_labels = []\n",
    "        for token in sent:\n",
    "            if (token['misc'] != None):\n",
    "                if (token['misc']['BeginSeg'] == 'Yes'):\n",
    "                    sent_labels.append('Y')\n",
    "                else:\n",
    "                    sent_labels.append('N')\n",
    "            else:\n",
    "                sent_labels.append('N')\n",
    "        labels.append(sent_labels)\n",
    "    return labels\n",
    "\n",
    "test_labels = get_labels(test_sent_list)\n",
    "train_labels = get_labels(train_sent_list)"
   ]
  },
  {
   "cell_type": "code",
   "execution_count": 7,
   "metadata": {},
   "outputs": [
    {
     "name": "stdout",
     "output_type": "stream",
     "text": [
      "['Y', 'N', 'N', 'N', 'N', 'N', 'N', 'N', 'N', 'N', 'N', 'N', 'N']\n"
     ]
    }
   ],
   "source": [
    "print(test_labels[0])"
   ]
  },
  {
   "cell_type": "code",
   "execution_count": 8,
   "metadata": {},
   "outputs": [],
   "source": [
    "def preprocess(lst): #убираем значения misc и значения feats переносим в словарь токена\n",
    "    for elem in lst:\n",
    "        for token in elem:\n",
    "            del token['misc']\n",
    "            d = {}\n",
    "            for key in token:\n",
    "                if (token[key] == None):\n",
    "                    token[key] = '_ZERO_'\n",
    "                elif (key == 'feats'):\n",
    "                    for _ in token[key]:\n",
    "                        d[_] = token[key][_]\n",
    "            del token['feats']\n",
    "            for _ in d:\n",
    "                token[_] = d[_]\n",
    "preprocess(test_sent_list)\n",
    "preprocess(train_sent_list)"
   ]
  },
  {
   "cell_type": "code",
   "execution_count": 9,
   "metadata": {},
   "outputs": [
    {
     "data": {
      "text/plain": [
       "{'id': 2,\n",
       " 'form': 'поездки',\n",
       " 'lemma': 'поездка',\n",
       " 'upos': 'NOUN',\n",
       " 'xpos': '_ZERO_',\n",
       " 'head': 22,\n",
       " 'deprel': 'obl',\n",
       " 'deps': '_ZERO_',\n",
       " 'Animacу': 'Inan',\n",
       " 'Case': 'Gen',\n",
       " 'Gender': 'Fem',\n",
       " 'Number': 'Sing'}"
      ]
     },
     "execution_count": 9,
     "metadata": {},
     "output_type": "execute_result"
    }
   ],
   "source": [
    "test_sent_list[2][1]"
   ]
  },
  {
   "cell_type": "code",
   "execution_count": 11,
   "metadata": {},
   "outputs": [],
   "source": [
    "#! pip install --upgrade 'scikit-learn==0.23.2'"
   ]
  },
  {
   "cell_type": "code",
   "execution_count": 10,
   "metadata": {},
   "outputs": [
    {
     "name": "stderr",
     "output_type": "stream",
     "text": [
      "/home/peter/p/tf-demo/lib/python3.9/site-packages/sklearn/base.py:209: FutureWarning: From version 0.24, get_params will raise an AttributeError if a parameter cannot be retrieved as an instance attribute. Previously it would return None.\n",
      "  warnings.warn('From version 0.24, get_params will raise an '\n"
     ]
    },
    {
     "data": {
      "text/plain": [
       "CRF(algorithm='lbfgs', all_possible_transitions=True, c1=2.0, c2=0.1,\n",
       "    keep_tempfiles=None, max_iterations=100)"
      ]
     },
     "execution_count": 10,
     "metadata": {},
     "output_type": "execute_result"
    }
   ],
   "source": [
    "import sklearn_crfsuite\n",
    "\n",
    "crf = sklearn_crfsuite.CRF(\n",
    "    algorithm='lbfgs',\n",
    "    c1=2.0,\n",
    "    c2=0.1,\n",
    "    max_iterations=100,\n",
    "    all_possible_transitions=True\n",
    ")\n",
    "crf.fit(train_sent_list, train_labels)"
   ]
  },
  {
   "cell_type": "code",
   "execution_count": 11,
   "metadata": {},
   "outputs": [
    {
     "data": {
      "text/plain": [
       "0.7390434624477178"
      ]
     },
     "execution_count": 11,
     "metadata": {},
     "output_type": "execute_result"
    }
   ],
   "source": [
    "from sklearn_crfsuite import metrics\n",
    "labels_pred = crf.predict(test_sent_list)\n",
    "metrics.flat_f1_score(test_labels, labels_pred,\n",
    "                      average='weighted', labels=['Y'])"
   ]
  },
  {
   "cell_type": "markdown",
   "metadata": {
    "id": "xdfTgkRISipG"
   },
   "source": [
    "## Домашнее задание (6 баллов)\n",
    "\n",
    "Обучите модель для дискурсивной сегментации - CRF или бинарный классификатор (на выбор). Для оценки качества используйте F1 определения метки ``BeginSeg=Yes``.\n",
    "\n",
    "Решения в форме ноутбуков, где последняя ячейка содержит ответ с текстовым комментарием, присылайте на mipttextanalysis20@gmail.com (ссылкой на colab.research или файлом). \n",
    "\n",
    "Будут приняты решения, присланные до 12:00 27 октября (без штрафа)."
   ]
  },
  {
   "cell_type": "markdown",
   "metadata": {},
   "source": [
    "### Комментарий"
   ]
  },
  {
   "cell_type": "markdown",
   "metadata": {},
   "source": [
    "Я перенес признаки feats в словарь токена и удалил словарь feats;\n",
    "Также наличие метки BeginSeg=Yes я определил меткой 'Y', а меткой 'N' ее отстутствие. Отсутствие какого-либо признака (None) я заменил на флаг '_ ZERO _'"
   ]
  }
 ],
 "metadata": {
  "colab": {
   "provenance": []
  },
  "kernelspec": {
   "display_name": "Python 3 (ipykernel)",
   "language": "python",
   "name": "python3"
  },
  "language_info": {
   "codemirror_mode": {
    "name": "ipython",
    "version": 3
   },
   "file_extension": ".py",
   "mimetype": "text/x-python",
   "name": "python",
   "nbconvert_exporter": "python",
   "pygments_lexer": "ipython3",
   "version": "3.9.13"
  }
 },
 "nbformat": 4,
 "nbformat_minor": 1
}
