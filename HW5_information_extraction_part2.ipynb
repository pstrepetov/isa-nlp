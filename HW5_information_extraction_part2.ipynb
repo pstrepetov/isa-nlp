{
 "cells": [
  {
   "cell_type": "markdown",
   "metadata": {
    "id": "1ZGTNGBYQYwt"
   },
   "source": [
    "# Извлечение информации\n",
    "\n",
    "([Задание для семинара](#scrollTo=_r19P5FYuGk2&line=1&uniqifier=1), \n",
    "[Домашнее задание](#scrollTo=PbBbqFUeQPcS&line=1&uniqifier=1))\n",
    "\n",
    "\n",
    "Задачей извлечения информации является получение структурированного знания из набора неструктурированных текстов. "
   ]
  },
  {
   "cell_type": "markdown",
   "metadata": {
    "id": "PbBbqFUeQPcS"
   },
   "source": [
    "## Домашнее задание (6 баллов)\n",
    "\n",
    "Обучите кластеризатор триплетов открытого извлечения информации. Кластером будет считаться некоторое семантическое отношение, представленное в тексте разными формами написания. Поля ``subject``, ``object``, ``text_predicate`` можно использовать при кластеризации; поле ``wikidata_property`` используется для оценки качества извлечения отношений.\n",
    "\n",
    "В предложенных данных объединены таблицы набора триплетов из базы знаний wikidata и набора триплетов, извлеченных из сырых текстов с помощью OpenIE. Соответствие между триплетами установлено напрямую по совпадению пар субъект-объект без семантической фильтрации предикатов и потому может быть ложным (например, если человек родился в том же городе, в котором умер - пары субъект-объект не дублируются) или неявным (человек был эвакуирован из города, в котором родился и жил, но пары субъект-объект опять же не дублируются)."
   ]
  },
  {
   "cell_type": "code",
   "execution_count": 2,
   "metadata": {
    "executionInfo": {
     "elapsed": 804,
     "status": "ok",
     "timestamp": 1633539034857,
     "user": {
      "displayName": "Elena Chistova",
      "photoUrl": "https://lh3.googleusercontent.com/a/default-user=s64",
      "userId": "12812817226965674873"
     },
     "user_tz": -180
    },
    "id": "4U8Kq3R9XD4w"
   },
   "outputs": [],
   "source": [
    "! wget -q https://www.dropbox.com/s/ajd5wl6hu7bxen4/ie_exploration.csv"
   ]
  },
  {
   "cell_type": "code",
   "execution_count": 3,
   "metadata": {
    "executionInfo": {
     "elapsed": 3,
     "status": "ok",
     "timestamp": 1633539034858,
     "user": {
      "displayName": "Elena Chistova",
      "photoUrl": "https://lh3.googleusercontent.com/a/default-user=s64",
      "userId": "12812817226965674873"
     },
     "user_tz": -180
    },
    "id": "rB72eDLCXrzn"
   },
   "outputs": [],
   "source": [
    "import pandas as pd\n",
    "\n",
    "data = pd.read_csv('ie_exploration.csv')"
   ]
  },
  {
   "cell_type": "code",
   "execution_count": 4,
   "metadata": {
    "colab": {
     "base_uri": "https://localhost:8080/",
     "height": 81
    },
    "executionInfo": {
     "elapsed": 247,
     "status": "ok",
     "timestamp": 1633539036371,
     "user": {
      "displayName": "Elena Chistova",
      "photoUrl": "https://lh3.googleusercontent.com/a/default-user=s64",
      "userId": "12812817226965674873"
     },
     "user_tz": -180
    },
    "id": "Rs8UiH9FXxYm",
    "outputId": "3e0f1a95-d499-4d70-94d2-e454c483532c"
   },
   "outputs": [
    {
     "data": {
      "text/html": [
       "<div>\n",
       "<style scoped>\n",
       "    .dataframe tbody tr th:only-of-type {\n",
       "        vertical-align: middle;\n",
       "    }\n",
       "\n",
       "    .dataframe tbody tr th {\n",
       "        vertical-align: top;\n",
       "    }\n",
       "\n",
       "    .dataframe thead th {\n",
       "        text-align: right;\n",
       "    }\n",
       "</style>\n",
       "<table border=\"1\" class=\"dataframe\">\n",
       "  <thead>\n",
       "    <tr style=\"text-align: right;\">\n",
       "      <th></th>\n",
       "      <th>subject</th>\n",
       "      <th>object</th>\n",
       "      <th>wikidata_property</th>\n",
       "      <th>text_predicate</th>\n",
       "    </tr>\n",
       "  </thead>\n",
       "  <tbody>\n",
       "    <tr>\n",
       "      <th>0</th>\n",
       "      <td>Artvin Province</td>\n",
       "      <td>Turkey</td>\n",
       "      <td>country</td>\n",
       "      <td>is province in</td>\n",
       "    </tr>\n",
       "  </tbody>\n",
       "</table>\n",
       "</div>"
      ],
      "text/plain": [
       "           subject  object wikidata_property  text_predicate\n",
       "0  Artvin Province  Turkey           country  is province in"
      ]
     },
     "execution_count": 4,
     "metadata": {},
     "output_type": "execute_result"
    }
   ],
   "source": [
    "data.head(1)"
   ]
  },
  {
   "cell_type": "code",
   "execution_count": 5,
   "metadata": {
    "colab": {
     "base_uri": "https://localhost:8080/"
    },
    "executionInfo": {
     "elapsed": 273,
     "status": "ok",
     "timestamp": 1633539037819,
     "user": {
      "displayName": "Elena Chistova",
      "photoUrl": "https://lh3.googleusercontent.com/a/default-user=s64",
      "userId": "12812817226965674873"
     },
     "user_tz": -180
    },
    "id": "dVKU85vkXzkm",
    "outputId": "b597e564-5182-4564-fca6-038ff56cbc86"
   },
   "outputs": [
    {
     "data": {
      "text/plain": [
       "was born in                     131\n",
       "is in                             5\n",
       "died in                           5\n",
       "grew up in                        2\n",
       "born in                           2\n",
       "is filmmaker from                 1\n",
       "was popular actor in              1\n",
       "former mayor of                   1\n",
       "was tuscan painter from           1\n",
       "was native of                     1\n",
       "earl of                           1\n",
       "coach from                        1\n",
       "was german astronomer from        1\n",
       "is former footballer from         1\n",
       "was born on                       1\n",
       "was born child in                 1\n",
       "was australian journalist of      1\n",
       "was born at                       1\n",
       "was mayor of                      1\n",
       "was born second in                1\n",
       "is japanese composer from         1\n",
       "was politician from               1\n",
       "lived in                          1\n",
       "recalled to                       1\n",
       "was baptized in                   1\n",
       "went home to                      1\n",
       "native of                         1\n",
       "returned to                       1\n",
       "was evacuated from                1\n",
       "joined                            1\n",
       "is japanese singer from           1\n",
       "Name: text_predicate, dtype: int64"
      ]
     },
     "execution_count": 5,
     "metadata": {},
     "output_type": "execute_result"
    }
   ],
   "source": [
    "data[data.wikidata_property == 'place of birth'].text_predicate.value_counts()"
   ]
  },
  {
   "cell_type": "code",
   "execution_count": 6,
   "metadata": {
    "colab": {
     "base_uri": "https://localhost:8080/"
    },
    "executionInfo": {
     "elapsed": 217,
     "status": "ok",
     "timestamp": 1633539204794,
     "user": {
      "displayName": "Elena Chistova",
      "photoUrl": "https://lh3.googleusercontent.com/a/default-user=s64",
      "userId": "12812817226965674873"
     },
     "user_tz": -180
    },
    "id": "elY5XY6Shgyd",
    "outputId": "558300f5-1935-4e86-b321-53fe089b554f"
   },
   "outputs": [
    {
     "data": {
      "text/plain": [
       "array(['country', 'located in the administrative territorial entity',\n",
       "       'place of birth', 'occupation', 'place of death', 'creator',\n",
       "       'genre', 'instrument', 'production company', 'named after',\n",
       "       'mouth of the watercourse', 'publisher', 'performer', 'developer',\n",
       "       'position played on team / speciality', 'director', 'child',\n",
       "       'author', 'country of citizenship', 'instance of', 'screenwriter',\n",
       "       'cause of death', 'country of origin', 'parent taxon', 'composer',\n",
       "       'crosses', 'founded by', 'original language of film or TV show',\n",
       "       'place of burial', 'record label', 'producer',\n",
       "       'located in time zone', 'location', 'conflict', 'family',\n",
       "       'film editor', 'sex or gender'], dtype=object)"
      ]
     },
     "execution_count": 6,
     "metadata": {},
     "output_type": "execute_result"
    }
   ],
   "source": [
    "data.wikidata_property.unique()"
   ]
  },
  {
   "cell_type": "code",
   "execution_count": 7,
   "metadata": {
    "colab": {
     "base_uri": "https://localhost:8080/"
    },
    "executionInfo": {
     "elapsed": 231,
     "status": "ok",
     "timestamp": 1633539039298,
     "user": {
      "displayName": "Elena Chistova",
      "photoUrl": "https://lh3.googleusercontent.com/a/default-user=s64",
      "userId": "12812817226965674873"
     },
     "user_tz": -180
    },
    "id": "vMdQsNg-apX-",
    "outputId": "22aa2493-fe5b-49e7-f444-a0e410a632a7"
   },
   "outputs": [
    {
     "name": "stdout",
     "output_type": "stream",
     "text": [
      "Число wikidata-отношений в данных: 37\n"
     ]
    }
   ],
   "source": [
    "print(\"Число wikidata-отношений в данных:\", len(data.wikidata_property.unique()))"
   ]
  },
  {
   "cell_type": "markdown",
   "metadata": {
    "id": "ycyNK716adVd"
   },
   "source": [
    "Оценка качества кластеризации (= извлечения отношений) на примере случайных меток кластеров:"
   ]
  },
  {
   "cell_type": "code",
   "execution_count": 8,
   "metadata": {
    "colab": {
     "base_uri": "https://localhost:8080/"
    },
    "executionInfo": {
     "elapsed": 235,
     "status": "ok",
     "timestamp": 1633539176147,
     "user": {
      "displayName": "Elena Chistova",
      "photoUrl": "https://lh3.googleusercontent.com/a/default-user=s64",
      "userId": "12812817226965674873"
     },
     "user_tz": -180
    },
    "id": "FYLPSVZZX2E2",
    "outputId": "445ea752-41e9-4b81-e57f-101d95a2a0ef"
   },
   "outputs": [
    {
     "data": {
      "text/plain": [
       "0.004852614840143447"
      ]
     },
     "execution_count": 8,
     "metadata": {},
     "output_type": "execute_result"
    }
   ],
   "source": [
    "from sklearn.metrics.cluster import adjusted_mutual_info_score\n",
    "import numpy as np\n",
    "\n",
    "random_clusters = np.random.randint(0, 38, size=data.shape[0])\n",
    "adjusted_mutual_info_score(data.wikidata_property, random_clusters)"
   ]
  },
  {
   "cell_type": "markdown",
   "metadata": {
    "id": "lwwC0FeghDyP"
   },
   "source": [
    "Baseline: скажем, что предикаты открытого извлечения информации - это и есть семантические отношения."
   ]
  },
  {
   "cell_type": "code",
   "execution_count": 9,
   "metadata": {
    "colab": {
     "base_uri": "https://localhost:8080/"
    },
    "executionInfo": {
     "elapsed": 6,
     "status": "ok",
     "timestamp": 1633539176985,
     "user": {
      "displayName": "Elena Chistova",
      "photoUrl": "https://lh3.googleusercontent.com/a/default-user=s64",
      "userId": "12812817226965674873"
     },
     "user_tz": -180
    },
    "id": "DAS-fH2dg-u3",
    "outputId": "c52c8200-0c52-4ee2-e194-c4c941117cfc"
   },
   "outputs": [
    {
     "data": {
      "text/plain": [
       "0.5520540914769483"
      ]
     },
     "execution_count": 9,
     "metadata": {},
     "output_type": "execute_result"
    }
   ],
   "source": [
    "adjusted_mutual_info_score(data.wikidata_property, data.text_predicate)"
   ]
  },
  {
   "cell_type": "code",
   "execution_count": 469,
   "metadata": {},
   "outputs": [],
   "source": [
    "texts = []\n",
    "\n",
    "for index, row in data.iterrows():\n",
    "    sent = []\n",
    "    #sent += row['subject'].split(' ')\n",
    "    #sent += row['object'].split(' ')\n",
    "    sent += row['text_predicate'].split(' ')\n",
    "    texts.append(sent)"
   ]
  },
  {
   "cell_type": "code",
   "execution_count": 470,
   "metadata": {},
   "outputs": [],
   "source": [
    "from gensim.models import Word2Vec\n",
    "\n",
    "model = Word2Vec(sentences=texts, vector_size=100, window=2, min_count=1, seed=42)"
   ]
  },
  {
   "cell_type": "code",
   "execution_count": 471,
   "metadata": {},
   "outputs": [],
   "source": [
    "Vec_s = np.zeros((len(data), 100), np.float32)\n",
    "Vec_o = np.zeros((len(data), 100), np.float32)\n",
    "Vec_tp = np.zeros((len(data), 100), np.float32)\n",
    "for i in range(len(data)):\n",
    "    #Vec_s[i] = sum(model.wv[data['subject'][i].split(' ')])/len(data['subject'][i].split(' '))\n",
    "    #Vec_o[i] = sum(model.wv[data['object'][i].split(' ')])/len(data['object'][i].split(' '))\n",
    "    Vec_tp[i] = sum(model.wv[data['text_predicate'][i].split(' ')])/len(data['text_predicate'][i].split(' '))"
   ]
  },
  {
   "cell_type": "code",
   "execution_count": 472,
   "metadata": {},
   "outputs": [],
   "source": [
    "#data_vec_SOTP = pd.concat([pd.DataFrame(Vec_s), pd.DataFrame(Vec_o), pd.DataFrame(Vec_tp)], axis=1)\n",
    "data_vec_TP = pd.DataFrame(Vec_tp)"
   ]
  },
  {
   "cell_type": "code",
   "execution_count": 473,
   "metadata": {},
   "outputs": [],
   "source": [
    "from sklearn.cluster import SpectralClustering\n",
    "from sklearn.cluster import KMeans\n",
    "\n",
    "clustering = SpectralClustering(n_clusters=20, affinity='nearest_neighbors', n_neighbors=12, random_state=42).fit(data_vec_SOTP)\n",
    "kmeans = KMeans(n_clusters=37, n_init=50, random_state=42).fit(data_vec_TP)"
   ]
  },
  {
   "cell_type": "code",
   "execution_count": 474,
   "metadata": {},
   "outputs": [
    {
     "data": {
      "text/plain": [
       "0.4997600681075202"
      ]
     },
     "execution_count": 474,
     "metadata": {},
     "output_type": "execute_result"
    }
   ],
   "source": [
    "adjusted_mutual_info_score(data.wikidata_property, clustering.labels_)"
   ]
  },
  {
   "cell_type": "code",
   "execution_count": 475,
   "metadata": {},
   "outputs": [
    {
     "data": {
      "text/plain": [
       "0.5258194292625538"
      ]
     },
     "execution_count": 475,
     "metadata": {},
     "output_type": "execute_result"
    }
   ],
   "source": [
    "adjusted_mutual_info_score(data.wikidata_property, kmeans.labels_)"
   ]
  },
  {
   "cell_type": "markdown",
   "metadata": {
    "id": "XbO4Y4q_XCcJ"
   },
   "source": [
    "Решения в форме ноутбуков, где последняя ячейка содержит ответ с текстовым комментарием, присылайте на mipttextanalysis20@gmail.com (ссылкой на colab.research или файлом). \n",
    "\n",
    "Решения без штрафа (8 баллов максимум) принимаются до 12.00 20 октября. Всё, что присылается не в срок, оценивается из максимума 4 балла. Работу, присланную в срок и оцененную не менее чем на 4 балла, можно доделать и досдать на максимум один раз.\n",
    "\n",
    "Пожалуйста, указывайте фамилию в названии блокнота. Комментарий к решению принимается на русском или английском языке."
   ]
  },
  {
   "cell_type": "markdown",
   "metadata": {},
   "source": [
    "### Комментарий"
   ]
  },
  {
   "cell_type": "markdown",
   "metadata": {},
   "source": [
    "Для векторизации слов я использовал word2vec, стоп-слова не удалял, тк без них качество снижалось. Для последовательности слов вычислялось среднее для каждого элемента вектора.\n",
    "Для кластеризации я использовал SpectralClustering и KMeans из sklearn.cluster, наилучшие результаты adjusted_mutual_info_score приблизительно равны 52,5%, что несколько ниже Baseline. Для KMeans наилучший скор получается при использовании только данных text_predicate, SpectralClustering лучше всего работает на всех доступных данных, но при этом с количеством кластеров 20. Возможно существует более эффективная векторизация, но при текущем результате baseline выигрывает."
   ]
  }
 ],
 "metadata": {
  "colab": {
   "collapsed_sections": [
    "jhNznqSGSApl"
   ],
   "name": "5_information_extraction.ipynb",
   "provenance": []
  },
  "kernelspec": {
   "display_name": "Python 3 (ipykernel)",
   "language": "python",
   "name": "python3"
  },
  "language_info": {
   "codemirror_mode": {
    "name": "ipython",
    "version": 3
   },
   "file_extension": ".py",
   "mimetype": "text/x-python",
   "name": "python",
   "nbconvert_exporter": "python",
   "pygments_lexer": "ipython3",
   "version": "3.9.13"
  }
 },
 "nbformat": 4,
 "nbformat_minor": 1
}
