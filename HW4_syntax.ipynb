{
 "cells": [
  {
   "cell_type": "code",
   "execution_count": 1,
   "metadata": {
    "id": "dhRN6kOD2Eqa"
   },
   "outputs": [
    {
     "name": "stdout",
     "output_type": "stream",
     "text": [
      "Collecting git+https://github.com/IINemo/isanlp.git\n",
      "  Cloning https://github.com/IINemo/isanlp.git to /tmp/pip-req-build-84r5uaqb\n"
     ]
    },
    {
     "name": "stderr",
     "output_type": "stream",
     "text": [
      "  Running command git clone --filter=blob:none --quiet https://github.com/IINemo/isanlp.git /tmp/pip-req-build-84r5uaqb\n"
     ]
    },
    {
     "name": "stdout",
     "output_type": "stream",
     "text": [
      "  Resolved https://github.com/IINemo/isanlp.git to commit 1e5166c23b1658d58e35164fcbc0e29d2f07464a\n",
      "  Preparing metadata (setup.py): started\n",
      "  Preparing metadata (setup.py): finished with status 'done'\n",
      "Collecting svgling\n",
      "  Downloading svgling-0.3.1-py3-none-any.whl (21 kB)\n",
      "Requirement already satisfied: ufal.udpipe in /home/peter/p/tf-demo/lib/python3.9/site-packages (1.2.0.3)\n",
      "Requirement already satisfied: natasha in /home/peter/p/tf-demo/lib/python3.9/site-packages (1.4.0)\n",
      "Collecting svgwrite\n",
      "  Downloading svgwrite-1.4.3-py3-none-any.whl (67 kB)\n",
      "     ━━━━━━━━━━━━━━━━━━━━━━━━━━━━━━━━━━━━━━━ 67.1/67.1 kB 379.1 kB/s eta 0:00:00\n",
      "Requirement already satisfied: protobuf==3.15.0 in /home/peter/p/tf-demo/lib/python3.9/site-packages (from isanlp==0.0.7) (3.15.0)\n",
      "Requirement already satisfied: grpcio in /home/peter/p/tf-demo/lib/python3.9/site-packages (from isanlp==0.0.7) (1.47.0)\n",
      "Requirement already satisfied: six>=1.9 in /home/peter/p/tf-demo/lib/python3.9/site-packages (from protobuf==3.15.0->isanlp==0.0.7) (1.16.0)\n",
      "Requirement already satisfied: pymorphy2 in /home/peter/p/tf-demo/lib/python3.9/site-packages (from natasha) (0.9.1)\n",
      "Requirement already satisfied: yargy>=0.14.0 in /home/peter/p/tf-demo/lib/python3.9/site-packages (from natasha) (0.15.0)\n",
      "Requirement already satisfied: slovnet>=0.3.0 in /home/peter/p/tf-demo/lib/python3.9/site-packages (from natasha) (0.5.0)\n",
      "Requirement already satisfied: navec>=0.9.0 in /home/peter/p/tf-demo/lib/python3.9/site-packages (from natasha) (0.10.0)\n",
      "Requirement already satisfied: ipymarkup>=0.8.0 in /home/peter/p/tf-demo/lib/python3.9/site-packages (from natasha) (0.9.0)\n",
      "Requirement already satisfied: razdel>=0.5.0 in /home/peter/p/tf-demo/lib/python3.9/site-packages (from natasha) (0.5.0)\n",
      "Requirement already satisfied: intervaltree>=3 in /home/peter/p/tf-demo/lib/python3.9/site-packages (from ipymarkup>=0.8.0->natasha) (3.1.0)\n",
      "Requirement already satisfied: numpy in /home/peter/p/tf-demo/lib/python3.9/site-packages (from navec>=0.9.0->natasha) (1.23.1)\n",
      "Requirement already satisfied: docopt>=0.6 in /home/peter/p/tf-demo/lib/python3.9/site-packages (from pymorphy2->natasha) (0.6.2)\n",
      "Requirement already satisfied: dawg-python>=0.7.1 in /home/peter/p/tf-demo/lib/python3.9/site-packages (from pymorphy2->natasha) (0.7.2)\n",
      "Requirement already satisfied: pymorphy2-dicts-ru<3.0,>=2.4 in /home/peter/p/tf-demo/lib/python3.9/site-packages (from pymorphy2->natasha) (2.4.417127.4579844)\n",
      "Requirement already satisfied: sortedcontainers<3.0,>=2.0 in /home/peter/p/tf-demo/lib/python3.9/site-packages (from intervaltree>=3->ipymarkup>=0.8.0->natasha) (2.4.0)\n",
      "Installing collected packages: svgwrite, svgling\n",
      "Successfully installed svgling-0.3.1 svgwrite-1.4.3\n"
     ]
    },
    {
     "name": "stderr",
     "output_type": "stream",
     "text": [
      "\n",
      "[notice] A new release of pip available: 22.2.2 -> 22.3.1\n",
      "[notice] To update, run: pip install --upgrade pip\n"
     ]
    }
   ],
   "source": [
    "%%bash\n",
    "\n",
    "pip install svgling git+https://github.com/IINemo/isanlp.git ufal.udpipe natasha\n",
    "wget -q https://lindat.mff.cuni.cz/repository/xmlui/bitstream/handle/11234/1-3131/russian-syntagrus-ud-2.5-191206.udpipe"
   ]
  },
  {
   "cell_type": "code",
   "execution_count": 1,
   "metadata": {
    "id": "t0rM1r2e2Eqo"
   },
   "outputs": [],
   "source": [
    "import nltk\n",
    "import svgling"
   ]
  },
  {
   "cell_type": "markdown",
   "metadata": {
    "id": "zF7ESl472Eqx"
   },
   "source": [
    "## Синтаксический анализ\n",
    "\n",
    "([Задание для семинара](#scrollTo=Hj1oveMEFv1m&line=5&uniqifier=1), \n",
    "[Домашнее задание](#scrollTo=QwS83LQ_2Erz&line=1&uniqifier=1))\n"
   ]
  },
  {
   "cell_type": "markdown",
   "metadata": {
    "id": "HKjky_lm2Eqz"
   },
   "source": [
    "#### Грамматика составляющих\n",
    "\n",
    "\n",
    "Обозначения:\n",
    "\n",
    "| symbol | meaning              | example          |\n",
    "| ---    | ---                  | ---              |\n",
    "| NP     | noun phrase\t        | a dog            |\n",
    "| VP     | verb phrase\t        | saw a park       |\n",
    "| PP     | prepositional phrase | with a telescope |\n",
    "| Det    | determiner           | the              |\n",
    "| N      | noun                 | dog              |\n",
    "| V      | verb\t                | walked           |\n",
    "| P\t     | preposition          | in               |"
   ]
  },
  {
   "cell_type": "code",
   "execution_count": 2,
   "metadata": {
    "colab": {
     "base_uri": "https://localhost:8080/",
     "height": 1000
    },
    "executionInfo": {
     "elapsed": 1007,
     "status": "ok",
     "timestamp": 1602165782907,
     "user": {
      "displayName": "Elena Chistova",
      "photoUrl": "",
      "userId": "12812817226965674873"
     },
     "user_tz": -180
    },
    "id": "55HY5CHP2Eq1",
    "outputId": "1b93be9b-47e9-461d-a1ba-f0ff7827cdbb",
    "scrolled": true
   },
   "outputs": [
    {
     "name": "stdout",
     "output_type": "stream",
     "text": [
      "::: Recursive descent parsing:::\n",
      "Parsing 'Mary saw a dog'\n",
      "    [ * S ]\n",
      "  E [ * NP VP ]\n",
      "  E [ * 'John' VP ]\n",
      "  E [ * 'Mary' VP ]\n",
      "  M [ 'Mary' * VP ]\n",
      "  E [ 'Mary' * V NP ]\n",
      "  E [ 'Mary' * 'saw' NP ]\n",
      "  M [ 'Mary' 'saw' * NP ]\n",
      "  E [ 'Mary' 'saw' * 'John' ]\n",
      "  E [ 'Mary' 'saw' * 'Mary' ]\n",
      "  E [ 'Mary' 'saw' * 'Bob' ]\n",
      "  E [ 'Mary' 'saw' * Det N ]\n",
      "  E [ 'Mary' 'saw' * 'a' N ]\n",
      "  M [ 'Mary' 'saw' 'a' * N ]\n",
      "  E [ 'Mary' 'saw' 'a' * 'man' ]\n",
      "  E [ 'Mary' 'saw' 'a' * 'dog' ]\n",
      "  M [ 'Mary' 'saw' 'a' 'dog' ]\n",
      "  + [ 'Mary' 'saw' 'a' 'dog' ]\n",
      "(S (NP Mary) (VP (V saw) (NP (Det a) (N dog))))\n",
      "\n",
      "  E [ 'Mary' 'saw' 'a' * 'cat' ]\n",
      "  E [ 'Mary' 'saw' 'a' * 'telescope' ]\n",
      "  E [ 'Mary' 'saw' 'a' * 'park' ]\n",
      "  E [ 'Mary' 'saw' * 'an' N ]\n",
      "  E [ 'Mary' 'saw' * 'the' N ]\n",
      "  E [ 'Mary' 'saw' * 'my' N ]\n",
      "  E [ 'Mary' 'saw' * Det N PP ]\n",
      "  E [ 'Mary' 'saw' * 'a' N PP ]\n",
      "  M [ 'Mary' 'saw' 'a' * N PP ]\n",
      "  E [ 'Mary' 'saw' 'a' * 'man' PP ]\n",
      "  E [ 'Mary' 'saw' 'a' * 'dog' PP ]\n",
      "  M [ 'Mary' 'saw' 'a' 'dog' * PP ]\n",
      "  E [ 'Mary' 'saw' 'a' 'dog' * P NP ]\n",
      "  E [ 'Mary' 'saw' 'a' 'dog' * 'in' NP ]\n",
      "  E [ 'Mary' 'saw' 'a' 'dog' * 'on' NP ]\n",
      "  E [ 'Mary' 'saw' 'a' 'dog' * 'by' NP ]\n",
      "  E [ 'Mary' 'saw' 'a' 'dog' * 'with' NP ]\n",
      "  E [ 'Mary' 'saw' 'a' * 'cat' PP ]\n",
      "  E [ 'Mary' 'saw' 'a' * 'telescope' PP ]\n",
      "  E [ 'Mary' 'saw' 'a' * 'park' PP ]\n",
      "  E [ 'Mary' 'saw' * 'an' N PP ]\n",
      "  E [ 'Mary' 'saw' * 'the' N PP ]\n",
      "  E [ 'Mary' 'saw' * 'my' N PP ]\n",
      "  E [ 'Mary' * 'ate' NP ]\n",
      "  E [ 'Mary' * 'walked' NP ]\n",
      "  E [ 'Mary' * V NP PP ]\n",
      "  E [ 'Mary' * 'saw' NP PP ]\n",
      "  M [ 'Mary' 'saw' * NP PP ]\n",
      "  E [ 'Mary' 'saw' * 'John' PP ]\n",
      "  E [ 'Mary' 'saw' * 'Mary' PP ]\n",
      "  E [ 'Mary' 'saw' * 'Bob' PP ]\n",
      "  E [ 'Mary' 'saw' * Det N PP ]\n",
      "  E [ 'Mary' 'saw' * 'a' N PP ]\n",
      "  M [ 'Mary' 'saw' 'a' * N PP ]\n",
      "  E [ 'Mary' 'saw' 'a' * 'man' PP ]\n",
      "  E [ 'Mary' 'saw' 'a' * 'dog' PP ]\n",
      "  M [ 'Mary' 'saw' 'a' 'dog' * PP ]\n",
      "  E [ 'Mary' 'saw' 'a' 'dog' * P NP ]\n",
      "  E [ 'Mary' 'saw' 'a' 'dog' * 'in' NP ]\n",
      "  E [ 'Mary' 'saw' 'a' 'dog' * 'on' NP ]\n",
      "  E [ 'Mary' 'saw' 'a' 'dog' * 'by' NP ]\n",
      "  E [ 'Mary' 'saw' 'a' 'dog' * 'with' NP ]\n",
      "  E [ 'Mary' 'saw' 'a' * 'cat' PP ]\n",
      "  E [ 'Mary' 'saw' 'a' * 'telescope' PP ]\n",
      "  E [ 'Mary' 'saw' 'a' * 'park' PP ]\n",
      "  E [ 'Mary' 'saw' * 'an' N PP ]\n",
      "  E [ 'Mary' 'saw' * 'the' N PP ]\n",
      "  E [ 'Mary' 'saw' * 'my' N PP ]\n",
      "  E [ 'Mary' 'saw' * Det N PP PP ]\n",
      "  E [ 'Mary' 'saw' * 'a' N PP PP ]\n",
      "  M [ 'Mary' 'saw' 'a' * N PP PP ]\n",
      "  E [ 'Mary' 'saw' 'a' * 'man' PP PP ]\n",
      "  E [ 'Mary' 'saw' 'a' * 'dog' PP PP ]\n",
      "  M [ 'Mary' 'saw' 'a' 'dog' * PP PP ]\n",
      "  E [ 'Mary' 'saw' 'a' 'dog' * P NP PP ]\n",
      "  E [ 'Mary' 'saw' 'a' 'dog' * 'in' NP PP ]\n",
      "  E [ 'Mary' 'saw' 'a' 'dog' * 'on' NP PP ]\n",
      "  E [ 'Mary' 'saw' 'a' 'dog' * 'by' NP PP ]\n",
      "  E [ 'Mary' 'saw' 'a' 'dog' * 'with' NP PP ]\n",
      "  E [ 'Mary' 'saw' 'a' * 'cat' PP PP ]\n",
      "  E [ 'Mary' 'saw' 'a' * 'telescope' PP PP ]\n",
      "  E [ 'Mary' 'saw' 'a' * 'park' PP PP ]\n",
      "  E [ 'Mary' 'saw' * 'an' N PP PP ]\n",
      "  E [ 'Mary' 'saw' * 'the' N PP PP ]\n",
      "  E [ 'Mary' 'saw' * 'my' N PP PP ]\n",
      "  E [ 'Mary' * 'ate' NP PP ]\n",
      "  E [ 'Mary' * 'walked' NP PP ]\n",
      "  E [ * 'Bob' VP ]\n",
      "  E [ * Det N VP ]\n",
      "  E [ * 'a' N VP ]\n",
      "  E [ * 'an' N VP ]\n",
      "  E [ * 'the' N VP ]\n",
      "  E [ * 'my' N VP ]\n",
      "  E [ * Det N PP VP ]\n",
      "  E [ * 'a' N PP VP ]\n",
      "  E [ * 'an' N PP VP ]\n",
      "  E [ * 'the' N PP VP ]\n",
      "  E [ * 'my' N PP VP ]\n"
     ]
    },
    {
     "data": {
      "image/svg+xml": [
       "<svg baseProfile=\"full\" height=\"216px\" preserveAspectRatio=\"xMidYMid meet\" style=\"font-family: times, serif; font-weight:normal; font-style: normal; font-size: 16px;\" version=\"1.1\" viewBox=\"0,0,168.0,216.0\" width=\"168px\" xmlns=\"http://www.w3.org/2000/svg\" xmlns:ev=\"http://www.w3.org/2001/xml-events\" xmlns:xlink=\"http://www.w3.org/1999/xlink\"><defs /><svg width=\"100%\" x=\"0\" y=\"0em\"><defs /><text text-anchor=\"middle\" x=\"50%\" y=\"1em\">S</text></svg><svg width=\"28.5714%\" x=\"0%\" y=\"3em\"><defs /><svg width=\"100%\" x=\"0\" y=\"0em\"><defs /><text text-anchor=\"middle\" x=\"50%\" y=\"1em\">NP</text></svg><svg width=\"100%\" x=\"0%\" y=\"3em\"><defs /><svg width=\"100%\" x=\"0\" y=\"0em\"><defs /><text text-anchor=\"middle\" x=\"50%\" y=\"1em\">Mary</text></svg></svg><line stroke=\"black\" x1=\"50%\" x2=\"50%\" y1=\"1.2em\" y2=\"3em\" /></svg><line stroke=\"black\" x1=\"50%\" x2=\"14.2857%\" y1=\"1.2em\" y2=\"3em\" /><svg width=\"71.4286%\" x=\"28.5714%\" y=\"3em\"><defs /><svg width=\"100%\" x=\"0\" y=\"0em\"><defs /><text text-anchor=\"middle\" x=\"50%\" y=\"1em\">VP</text></svg><svg width=\"33.3333%\" x=\"0%\" y=\"3em\"><defs /><svg width=\"100%\" x=\"0\" y=\"0em\"><defs /><text text-anchor=\"middle\" x=\"50%\" y=\"1em\">V</text></svg><svg width=\"100%\" x=\"0%\" y=\"3em\"><defs /><svg width=\"100%\" x=\"0\" y=\"0em\"><defs /><text text-anchor=\"middle\" x=\"50%\" y=\"1em\">saw</text></svg></svg><line stroke=\"black\" x1=\"50%\" x2=\"50%\" y1=\"1.2em\" y2=\"3em\" /></svg><line stroke=\"black\" x1=\"50%\" x2=\"16.6667%\" y1=\"1.2em\" y2=\"3em\" /><svg width=\"66.6667%\" x=\"33.3333%\" y=\"3em\"><defs /><svg width=\"100%\" x=\"0\" y=\"0em\"><defs /><text text-anchor=\"middle\" x=\"50%\" y=\"1em\">NP</text></svg><svg width=\"50%\" x=\"0%\" y=\"3em\"><defs /><svg width=\"100%\" x=\"0\" y=\"0em\"><defs /><text text-anchor=\"middle\" x=\"50%\" y=\"1em\">Det</text></svg><svg width=\"100%\" x=\"0%\" y=\"3em\"><defs /><svg width=\"100%\" x=\"0\" y=\"0em\"><defs /><text text-anchor=\"middle\" x=\"50%\" y=\"1em\">a</text></svg></svg><line stroke=\"black\" x1=\"50%\" x2=\"50%\" y1=\"1.2em\" y2=\"3em\" /></svg><line stroke=\"black\" x1=\"50%\" x2=\"25%\" y1=\"1.2em\" y2=\"3em\" /><svg width=\"50%\" x=\"50%\" y=\"3em\"><defs /><svg width=\"100%\" x=\"0\" y=\"0em\"><defs /><text text-anchor=\"middle\" x=\"50%\" y=\"1em\">N</text></svg><svg width=\"100%\" x=\"0%\" y=\"3em\"><defs /><svg width=\"100%\" x=\"0\" y=\"0em\"><defs /><text text-anchor=\"middle\" x=\"50%\" y=\"1em\">dog</text></svg></svg><line stroke=\"black\" x1=\"50%\" x2=\"50%\" y1=\"1.2em\" y2=\"3em\" /></svg><line stroke=\"black\" x1=\"50%\" x2=\"75%\" y1=\"1.2em\" y2=\"3em\" /></svg><line stroke=\"black\" x1=\"50%\" x2=\"66.6667%\" y1=\"1.2em\" y2=\"3em\" /></svg><line stroke=\"black\" x1=\"50%\" x2=\"64.2857%\" y1=\"1.2em\" y2=\"3em\" /></svg>"
      ],
      "text/plain": [
       "TreeLayout(Tree('S', [Tree('NP', ['Mary']), Tree('VP', [Tree('V', ['saw']), Tree('NP', [Tree('Det', ['a']), Tree('N', ['dog'])])])]))"
      ]
     },
     "execution_count": 2,
     "metadata": {},
     "output_type": "execute_result"
    }
   ],
   "source": [
    "grammar = nltk.CFG.fromstring(\"\"\"\n",
    "  S -> NP VP\n",
    "  VP -> V NP | V NP PP\n",
    "  PP -> P NP\n",
    "  V -> \"saw\" | \"ate\" | \"walked\"\n",
    "  NP -> \"John\" | \"Mary\" | \"Bob\" | Det N | Det N PP\n",
    "  Det -> \"a\" | \"an\" | \"the\" | \"my\"\n",
    "  N -> \"man\" | \"dog\" | \"cat\" | \"telescope\" | \"park\"\n",
    "  P -> \"in\" | \"on\" | \"by\" | \"with\"\n",
    "  \"\"\")\n",
    "\n",
    "sent = \"Mary saw a dog\".split()\n",
    "rd_parser = nltk.RecursiveDescentParser(grammar, trace=2)  # сверху вниз\n",
    "\n",
    "print(\"::: Recursive descent parsing:::\")\n",
    "for tree in rd_parser.parse(sent):\n",
    "    print(tree)\n",
    "    print()\n",
    "\n",
    "svgling.draw_tree(tree)"
   ]
  },
  {
   "cell_type": "code",
   "execution_count": 3,
   "metadata": {
    "colab": {
     "base_uri": "https://localhost:8080/",
     "height": 497
    },
    "executionInfo": {
     "elapsed": 620,
     "status": "ok",
     "timestamp": 1602165783821,
     "user": {
      "displayName": "Elena Chistova",
      "photoUrl": "",
      "userId": "12812817226965674873"
     },
     "user_tz": -180
    },
    "id": "DVVuilX32Eq8",
    "outputId": "acb3e347-e1ea-4ed0-aa81-680e53d16d45",
    "scrolled": true
   },
   "outputs": [
    {
     "name": "stdout",
     "output_type": "stream",
     "text": [
      "::: Shift reduce parsing :::\n",
      "Parsing 'Mary saw a dog'\n",
      "    [ * Mary saw a dog]\n",
      "  S [ 'Mary' * saw a dog]\n",
      "  R [ NP * saw a dog]\n",
      "  S [ NP 'saw' * a dog]\n",
      "  R [ NP V * a dog]\n",
      "  S [ NP V 'a' * dog]\n",
      "  R [ NP V Det * dog]\n",
      "  S [ NP V Det 'dog' * ]\n",
      "  R [ NP V Det N * ]\n",
      "  R [ NP V NP * ]\n",
      "  R [ NP VP * ]\n",
      "  R [ S * ]\n",
      "(S (NP Mary) (VP (V saw) (NP (Det a) (N dog))))\n"
     ]
    },
    {
     "data": {
      "image/svg+xml": [
       "<svg baseProfile=\"full\" height=\"216px\" preserveAspectRatio=\"xMidYMid meet\" style=\"font-family: times, serif; font-weight:normal; font-style: normal; font-size: 16px;\" version=\"1.1\" viewBox=\"0,0,168.0,216.0\" width=\"168px\" xmlns=\"http://www.w3.org/2000/svg\" xmlns:ev=\"http://www.w3.org/2001/xml-events\" xmlns:xlink=\"http://www.w3.org/1999/xlink\"><defs /><svg width=\"100%\" x=\"0\" y=\"0em\"><defs /><text text-anchor=\"middle\" x=\"50%\" y=\"1em\">S</text></svg><svg width=\"28.5714%\" x=\"0%\" y=\"3em\"><defs /><svg width=\"100%\" x=\"0\" y=\"0em\"><defs /><text text-anchor=\"middle\" x=\"50%\" y=\"1em\">NP</text></svg><svg width=\"100%\" x=\"0%\" y=\"3em\"><defs /><svg width=\"100%\" x=\"0\" y=\"0em\"><defs /><text text-anchor=\"middle\" x=\"50%\" y=\"1em\">Mary</text></svg></svg><line stroke=\"black\" x1=\"50%\" x2=\"50%\" y1=\"1.2em\" y2=\"3em\" /></svg><line stroke=\"black\" x1=\"50%\" x2=\"14.2857%\" y1=\"1.2em\" y2=\"3em\" /><svg width=\"71.4286%\" x=\"28.5714%\" y=\"3em\"><defs /><svg width=\"100%\" x=\"0\" y=\"0em\"><defs /><text text-anchor=\"middle\" x=\"50%\" y=\"1em\">VP</text></svg><svg width=\"33.3333%\" x=\"0%\" y=\"3em\"><defs /><svg width=\"100%\" x=\"0\" y=\"0em\"><defs /><text text-anchor=\"middle\" x=\"50%\" y=\"1em\">V</text></svg><svg width=\"100%\" x=\"0%\" y=\"3em\"><defs /><svg width=\"100%\" x=\"0\" y=\"0em\"><defs /><text text-anchor=\"middle\" x=\"50%\" y=\"1em\">saw</text></svg></svg><line stroke=\"black\" x1=\"50%\" x2=\"50%\" y1=\"1.2em\" y2=\"3em\" /></svg><line stroke=\"black\" x1=\"50%\" x2=\"16.6667%\" y1=\"1.2em\" y2=\"3em\" /><svg width=\"66.6667%\" x=\"33.3333%\" y=\"3em\"><defs /><svg width=\"100%\" x=\"0\" y=\"0em\"><defs /><text text-anchor=\"middle\" x=\"50%\" y=\"1em\">NP</text></svg><svg width=\"50%\" x=\"0%\" y=\"3em\"><defs /><svg width=\"100%\" x=\"0\" y=\"0em\"><defs /><text text-anchor=\"middle\" x=\"50%\" y=\"1em\">Det</text></svg><svg width=\"100%\" x=\"0%\" y=\"3em\"><defs /><svg width=\"100%\" x=\"0\" y=\"0em\"><defs /><text text-anchor=\"middle\" x=\"50%\" y=\"1em\">a</text></svg></svg><line stroke=\"black\" x1=\"50%\" x2=\"50%\" y1=\"1.2em\" y2=\"3em\" /></svg><line stroke=\"black\" x1=\"50%\" x2=\"25%\" y1=\"1.2em\" y2=\"3em\" /><svg width=\"50%\" x=\"50%\" y=\"3em\"><defs /><svg width=\"100%\" x=\"0\" y=\"0em\"><defs /><text text-anchor=\"middle\" x=\"50%\" y=\"1em\">N</text></svg><svg width=\"100%\" x=\"0%\" y=\"3em\"><defs /><svg width=\"100%\" x=\"0\" y=\"0em\"><defs /><text text-anchor=\"middle\" x=\"50%\" y=\"1em\">dog</text></svg></svg><line stroke=\"black\" x1=\"50%\" x2=\"50%\" y1=\"1.2em\" y2=\"3em\" /></svg><line stroke=\"black\" x1=\"50%\" x2=\"75%\" y1=\"1.2em\" y2=\"3em\" /></svg><line stroke=\"black\" x1=\"50%\" x2=\"66.6667%\" y1=\"1.2em\" y2=\"3em\" /></svg><line stroke=\"black\" x1=\"50%\" x2=\"64.2857%\" y1=\"1.2em\" y2=\"3em\" /></svg>"
      ],
      "text/plain": [
       "TreeLayout(Tree('S', [Tree('NP', ['Mary']), Tree('VP', [Tree('V', ['saw']), Tree('NP', [Tree('Det', ['a']), Tree('N', ['dog'])])])]))"
      ]
     },
     "execution_count": 3,
     "metadata": {},
     "output_type": "execute_result"
    }
   ],
   "source": [
    "print(\"::: Shift reduce parsing :::\")\n",
    "rd_parser = nltk.ShiftReduceParser(grammar, trace=2)  # снизу вверх\n",
    "\n",
    "for tree in rd_parser.parse(sent):\n",
    "    print(tree)\n",
    "    \n",
    "svgling.draw_tree(tree)"
   ]
  },
  {
   "cell_type": "markdown",
   "metadata": {
    "id": "YeXufh574TV3"
   },
   "source": [
    "Посмотреть на грамматику составляющих на русском языке: http://aot.ru/demo/synt.html"
   ]
  },
  {
   "cell_type": "markdown",
   "metadata": {
    "id": "8MpkVx422ErA"
   },
   "source": [
    "#### Грамматика зависимостей"
   ]
  },
  {
   "cell_type": "code",
   "execution_count": 4,
   "metadata": {
    "colab": {
     "base_uri": "https://localhost:8080/",
     "height": 158
    },
    "executionInfo": {
     "elapsed": 753,
     "status": "ok",
     "timestamp": 1602165798976,
     "user": {
      "displayName": "Elena Chistova",
      "photoUrl": "",
      "userId": "12812817226965674873"
     },
     "user_tz": -180
    },
    "id": "GmyfE2tE2ErB",
    "outputId": "05ded75e-6432-429e-ee9c-e1a90a07b398"
   },
   "outputs": [
    {
     "name": "stdout",
     "output_type": "stream",
     "text": [
      "(saw Mary (dog a))\n"
     ]
    },
    {
     "data": {
      "image/svg+xml": [
       "<svg baseProfile=\"full\" height=\"120px\" preserveAspectRatio=\"xMidYMid meet\" style=\"font-family: times, serif; font-weight:normal; font-style: normal; font-size: 16px;\" version=\"1.1\" viewBox=\"0,0,88.0,120.0\" width=\"88px\" xmlns=\"http://www.w3.org/2000/svg\" xmlns:ev=\"http://www.w3.org/2001/xml-events\" xmlns:xlink=\"http://www.w3.org/1999/xlink\"><defs /><svg width=\"100%\" x=\"0\" y=\"0em\"><defs /><text text-anchor=\"middle\" x=\"50%\" y=\"1em\">saw</text></svg><svg width=\"54.5455%\" x=\"0%\" y=\"3em\"><defs /><svg width=\"100%\" x=\"0\" y=\"0em\"><defs /><text text-anchor=\"middle\" x=\"50%\" y=\"1em\">Mary</text></svg></svg><line stroke=\"black\" x1=\"50%\" x2=\"27.2727%\" y1=\"1.2em\" y2=\"3em\" /><svg width=\"45.4545%\" x=\"54.5455%\" y=\"3em\"><defs /><svg width=\"100%\" x=\"0\" y=\"0em\"><defs /><text text-anchor=\"middle\" x=\"50%\" y=\"1em\">dog</text></svg><svg width=\"100%\" x=\"0%\" y=\"3em\"><defs /><svg width=\"100%\" x=\"0\" y=\"0em\"><defs /><text text-anchor=\"middle\" x=\"50%\" y=\"1em\">a</text></svg></svg><line stroke=\"black\" x1=\"50%\" x2=\"50%\" y1=\"1.2em\" y2=\"3em\" /></svg><line stroke=\"black\" x1=\"50%\" x2=\"77.2727%\" y1=\"1.2em\" y2=\"3em\" /></svg>"
      ],
      "text/plain": [
       "TreeLayout(Tree('saw', ['Mary', Tree('dog', ['a'])]))"
      ]
     },
     "execution_count": 4,
     "metadata": {},
     "output_type": "execute_result"
    }
   ],
   "source": [
    "dep_grammar = nltk.DependencyGrammar.fromstring(\"\"\"\n",
    " 'saw' -> 'Mary' | 'dog'\n",
    " 'dog' -> 'a'\n",
    "\"\"\")\n",
    "\n",
    "pdp = nltk.ProjectiveDependencyParser(dep_grammar)\n",
    "trees = pdp.parse(sent)\n",
    "for tree in trees:\n",
    "     print(tree)\n",
    "        \n",
    "svgling.draw_tree(tree)"
   ]
  },
  {
   "cell_type": "code",
   "execution_count": 5,
   "metadata": {
    "colab": {
     "base_uri": "https://localhost:8080/",
     "height": 223
    },
    "executionInfo": {
     "elapsed": 1026,
     "status": "ok",
     "timestamp": 1602165800698,
     "user": {
      "displayName": "Elena Chistova",
      "photoUrl": "",
      "userId": "12812817226965674873"
     },
     "user_tz": -180
    },
    "id": "tkTP0Fu62ErF",
    "outputId": "4986e609-e4b7-41c7-b142-e32cd2c4cafc",
    "scrolled": true
   },
   "outputs": [
    {
     "name": "stdout",
     "output_type": "stream",
     "text": [
      "(shot I (elephant an (in (pajamas my))))\n",
      "(shot I (elephant an) (in (pajamas my)))\n"
     ]
    },
    {
     "data": {
      "image/svg+xml": [
       "<svg baseProfile=\"full\" height=\"168px\" preserveAspectRatio=\"xMidYMid meet\" style=\"font-family: times, serif; font-weight:normal; font-style: normal; font-size: 16px;\" version=\"1.1\" viewBox=\"0,0,176.0,168.0\" width=\"176px\" xmlns=\"http://www.w3.org/2000/svg\" xmlns:ev=\"http://www.w3.org/2001/xml-events\" xmlns:xlink=\"http://www.w3.org/1999/xlink\"><defs /><svg width=\"100%\" x=\"0\" y=\"0em\"><defs /><text text-anchor=\"middle\" x=\"50%\" y=\"1em\">shot</text></svg><svg width=\"13.6364%\" x=\"0%\" y=\"3em\"><defs /><svg width=\"100%\" x=\"0\" y=\"0em\"><defs /><text text-anchor=\"middle\" x=\"50%\" y=\"1em\">I</text></svg></svg><line stroke=\"black\" x1=\"50%\" x2=\"6.81818%\" y1=\"1.2em\" y2=\"3em\" /><svg width=\"45.4545%\" x=\"13.6364%\" y=\"3em\"><defs /><svg width=\"100%\" x=\"0\" y=\"0em\"><defs /><text text-anchor=\"middle\" x=\"50%\" y=\"1em\">elephant</text></svg><svg width=\"100%\" x=\"0%\" y=\"3em\"><defs /><svg width=\"100%\" x=\"0\" y=\"0em\"><defs /><text text-anchor=\"middle\" x=\"50%\" y=\"1em\">an</text></svg></svg><line stroke=\"black\" x1=\"50%\" x2=\"50%\" y1=\"1.2em\" y2=\"3em\" /></svg><line stroke=\"black\" x1=\"50%\" x2=\"36.3636%\" y1=\"1.2em\" y2=\"3em\" /><svg width=\"40.9091%\" x=\"59.0909%\" y=\"3em\"><defs /><svg width=\"100%\" x=\"0\" y=\"0em\"><defs /><text text-anchor=\"middle\" x=\"50%\" y=\"1em\">in</text></svg><svg width=\"100%\" x=\"0%\" y=\"3em\"><defs /><svg width=\"100%\" x=\"0\" y=\"0em\"><defs /><text text-anchor=\"middle\" x=\"50%\" y=\"1em\">pajamas</text></svg><svg width=\"100%\" x=\"0%\" y=\"3em\"><defs /><svg width=\"100%\" x=\"0\" y=\"0em\"><defs /><text text-anchor=\"middle\" x=\"50%\" y=\"1em\">my</text></svg></svg><line stroke=\"black\" x1=\"50%\" x2=\"50%\" y1=\"1.2em\" y2=\"3em\" /></svg><line stroke=\"black\" x1=\"50%\" x2=\"50%\" y1=\"1.2em\" y2=\"3em\" /></svg><line stroke=\"black\" x1=\"50%\" x2=\"79.5455%\" y1=\"1.2em\" y2=\"3em\" /></svg>"
      ],
      "text/plain": [
       "TreeLayout(Tree('shot', ['I', Tree('elephant', ['an']), Tree('in', [Tree('pajamas', ['my'])])]))"
      ]
     },
     "execution_count": 5,
     "metadata": {},
     "output_type": "execute_result"
    }
   ],
   "source": [
    "groucho_dep_grammar = nltk.DependencyGrammar.fromstring(\"\"\"\n",
    " 'shot' -> 'I' | 'elephant' | 'in'\n",
    " 'elephant' -> 'an' | 'in'\n",
    " 'in' -> 'pajamas'\n",
    " 'pajamas' -> 'my'\n",
    "\"\"\")\n",
    "\n",
    "pdp = nltk.ProjectiveDependencyParser(groucho_dep_grammar)\n",
    "sent = 'I shot an elephant in my pajamas'.split()\n",
    "trees = pdp.parse(sent)\n",
    "for tree in trees:\n",
    "     print(tree)\n",
    "        \n",
    "svgling.draw_tree(tree)"
   ]
  },
  {
   "cell_type": "markdown",
   "metadata": {
    "id": "MhDmXhQJ2ErT"
   },
   "source": [
    "### MaltParser\n",
    "http://nlp.isa.ru/demo/ssa"
   ]
  },
  {
   "cell_type": "code",
   "execution_count": 6,
   "metadata": {
    "id": "OBduwwux2ErU"
   },
   "outputs": [
    {
     "name": "stdout",
     "output_type": "stream",
     "text": [
      "^C\r\n"
     ]
    }
   ],
   "source": [
    "! wget -q http://maltparser.org/dist/maltparser-1.8.1.zip && unzip maltparser-1.8.1.zip "
   ]
  },
  {
   "cell_type": "code",
   "execution_count": null,
   "metadata": {
    "id": "t28-jfUo2ErY",
    "scrolled": false
   },
   "outputs": [],
   "source": [
    "! wget -q http://www.maltparser.org/mco/english_parser/engmalt.poly-1.7.mco"
   ]
  },
  {
   "cell_type": "code",
   "execution_count": null,
   "metadata": {
    "colab": {
     "base_uri": "https://localhost:8080/",
     "height": 254
    },
    "executionInfo": {
     "elapsed": 13593,
     "status": "ok",
     "timestamp": 1602165891238,
     "user": {
      "displayName": "Elena Chistova",
      "photoUrl": "",
      "userId": "12812817226965674873"
     },
     "user_tz": -180
    },
    "id": "1kgOOJfY2Erb",
    "outputId": "28c319cc-27df-43f4-de51-363ae0f9f476",
    "scrolled": true
   },
   "outputs": [
    {
     "name": "stdout",
     "output_type": "stream",
     "text": [
      "(shot I (elephant an (in (pajamas my))))\n"
     ]
    },
    {
     "data": {
      "image/svg+xml": [
       "<svg baseProfile=\"full\" height=\"216px\" preserveAspectRatio=\"xMidYMid meet\" style=\"font-family: times, serif; font-weight:normal; font-style: normal; font-size: 16px;\" version=\"1.1\" viewBox=\"0,0,128.0,216.0\" width=\"128px\" xmlns=\"http://www.w3.org/2000/svg\" xmlns:ev=\"http://www.w3.org/2001/xml-events\" xmlns:xlink=\"http://www.w3.org/1999/xlink\"><defs /><svg width=\"100%\" x=\"0\" y=\"0em\"><defs /><text text-anchor=\"middle\" x=\"50%\" y=\"1em\">shot</text></svg><svg width=\"18.75%\" x=\"0%\" y=\"3em\"><defs /><svg width=\"100%\" x=\"0\" y=\"0em\"><defs /><text text-anchor=\"middle\" x=\"50%\" y=\"1em\">I</text></svg></svg><line stroke=\"black\" x1=\"50%\" x2=\"9.375%\" y1=\"1.2em\" y2=\"3em\" /><svg width=\"81.25%\" x=\"18.75%\" y=\"3em\"><defs /><svg width=\"100%\" x=\"0\" y=\"0em\"><defs /><text text-anchor=\"middle\" x=\"50%\" y=\"1em\">elephant</text></svg><svg width=\"30.7692%\" x=\"0%\" y=\"3em\"><defs /><svg width=\"100%\" x=\"0\" y=\"0em\"><defs /><text text-anchor=\"middle\" x=\"50%\" y=\"1em\">an</text></svg></svg><line stroke=\"black\" x1=\"50%\" x2=\"15.3846%\" y1=\"1.2em\" y2=\"3em\" /><svg width=\"69.2308%\" x=\"30.7692%\" y=\"3em\"><defs /><svg width=\"100%\" x=\"0\" y=\"0em\"><defs /><text text-anchor=\"middle\" x=\"50%\" y=\"1em\">in</text></svg><svg width=\"100%\" x=\"0%\" y=\"3em\"><defs /><svg width=\"100%\" x=\"0\" y=\"0em\"><defs /><text text-anchor=\"middle\" x=\"50%\" y=\"1em\">pajamas</text></svg><svg width=\"100%\" x=\"0%\" y=\"3em\"><defs /><svg width=\"100%\" x=\"0\" y=\"0em\"><defs /><text text-anchor=\"middle\" x=\"50%\" y=\"1em\">my</text></svg></svg><line stroke=\"black\" x1=\"50%\" x2=\"50%\" y1=\"1.2em\" y2=\"3em\" /></svg><line stroke=\"black\" x1=\"50%\" x2=\"50%\" y1=\"1.2em\" y2=\"3em\" /></svg><line stroke=\"black\" x1=\"50%\" x2=\"65.3846%\" y1=\"1.2em\" y2=\"3em\" /></svg><line stroke=\"black\" x1=\"50%\" x2=\"59.375%\" y1=\"1.2em\" y2=\"3em\" /></svg>"
      ],
      "text/plain": [
       "TreeLayout(Tree('shot', ['I', Tree('elephant', ['an', Tree('in', [Tree('pajamas', ['my'])])])]))"
      ]
     },
     "execution_count": 13,
     "metadata": {
      "tags": []
     },
     "output_type": "execute_result"
    }
   ],
   "source": [
    "from nltk.parse.malt import MaltParser\n",
    "\n",
    "mp = MaltParser('maltparser-1.8.1', 'engmalt.poly-1.7.mco')\n",
    "sent1 = 'I shot an elephant in my pajamas'.split()\n",
    "tree = mp.parse_one(sent1).tree()\n",
    "print(tree)\n",
    "svgling.draw_tree(tree)"
   ]
  },
  {
   "cell_type": "markdown",
   "metadata": {
    "id": "FDnYUZB42Ere"
   },
   "source": [
    "### UDPipe "
   ]
  },
  {
   "cell_type": "code",
   "execution_count": 1,
   "metadata": {
    "id": "ZKXBoyfC2Ere"
   },
   "outputs": [],
   "source": [
    "from isanlp.processor_udpipe import ProcessorUDPipe\n",
    "\n",
    "udpipe = ProcessorUDPipe('russian-syntagrus-ud-2.5-191206.udpipe')"
   ]
  },
  {
   "cell_type": "code",
   "execution_count": 2,
   "metadata": {
    "colab": {
     "base_uri": "https://localhost:8080/"
    },
    "executionInfo": {
     "elapsed": 233,
     "status": "ok",
     "timestamp": 1631716382521,
     "user": {
      "displayName": "Elena Chistova",
      "photoUrl": "https://lh3.googleusercontent.com/a/default-user=s64",
      "userId": "12812817226965674873"
     },
     "user_tz": -180
    },
    "id": "_gdETozW2Erh",
    "outputId": "422b18de-b1a7-4bd2-eb4d-54a249a3a06b"
   },
   "outputs": [
    {
     "data": {
      "text/plain": [
       "dict_keys(['form', 'lemma', 'postag', 'morph', 'syntax_dep_tree', 'sentences', 'tokens'])"
      ]
     },
     "execution_count": 2,
     "metadata": {},
     "output_type": "execute_result"
    }
   ],
   "source": [
    "result = udpipe(\"\"\"Чашка стоит на столе и дымится. \n",
    "В Минпросвещения рассказали о разработке российского аналога TikTok для школьников.\"\"\")\n",
    "result.keys()"
   ]
  },
  {
   "cell_type": "code",
   "execution_count": 3,
   "metadata": {
    "colab": {
     "base_uri": "https://localhost:8080/",
     "height": 34
    },
    "executionInfo": {
     "elapsed": 719,
     "status": "ok",
     "timestamp": 1602166003831,
     "user": {
      "displayName": "Elena Chistova",
      "photoUrl": "",
      "userId": "12812817226965674873"
     },
     "user_tz": -180
    },
    "id": "lBjqAnz92Erk",
    "outputId": "ee7c6758-63fb-4282-9084-afd7d1b9ef56"
   },
   "outputs": [
    {
     "name": "stdout",
     "output_type": "stream",
     "text": [
      "{'parent': 5, 'link_name': 'cc'}\n",
      "[{'Animacy': 'Anim', 'Case': 'Nom', 'Gender': 'Masc', 'Number': 'Sing'}, {'Aspect': 'Imp', 'Mood': 'Ind', 'Number': 'Sing', 'Person': '3', 'Tense': 'Pres', 'VerbForm': 'Fin', 'Voice': 'Act'}, {}, {'Animacy': 'Inan', 'Case': 'Loc', 'Gender': 'Masc', 'Number': 'Sing'}, {}, {'Aspect': 'Imp', 'Mood': 'Ind', 'Number': 'Sing', 'Person': '3', 'Tense': 'Pres', 'VerbForm': 'Fin', 'Voice': 'Mid'}, {}]\n"
     ]
    }
   ],
   "source": [
    "print(vars(result['syntax_dep_tree'][0][4]))\n",
    "print(result['morph'][0])"
   ]
  },
  {
   "cell_type": "code",
   "execution_count": 4,
   "metadata": {},
   "outputs": [
    {
     "name": "stdout",
     "output_type": "stream",
     "text": [
      "0 1 nsubj\n",
      "1 -1 root\n",
      "2 3 case\n",
      "3 1 obl\n",
      "4 5 cc\n",
      "5 1 conj\n",
      "6 1 punct\n"
     ]
    }
   ],
   "source": [
    "for i, dependency_edge in enumerate(result['syntax_dep_tree'][0]):\n",
    "    print(i, vars(dependency_edge)['parent'], vars(dependency_edge)['link_name'])"
   ]
  },
  {
   "cell_type": "code",
   "execution_count": 5,
   "metadata": {
    "id": "3R7j-e8n2Err"
   },
   "outputs": [],
   "source": [
    "from natasha.doc import DocToken, syntax_markup\n",
    "\n",
    "\n",
    "def isanlp2natasha(annotation):\n",
    "    result = []\n",
    "    sentence_counter = 0\n",
    "    token_counter = 0\n",
    "    \n",
    "    for i, token in enumerate(annotation['tokens']):\n",
    "            \n",
    "        token_pos = annotation['postag'][sentence_counter][token_counter]\n",
    "        token_feats = list(annotation['morph'][sentence_counter][token_counter].values())\n",
    "        token_syntax = annotation['syntax_dep_tree'][sentence_counter][token_counter]\n",
    "        \n",
    "        result.append(\n",
    "            DocToken(\n",
    "                start=token.begin, \n",
    "                stop=token.end, \n",
    "                text=token.text, \n",
    "                id=f\"{sentence_counter}_{token_counter}\", \n",
    "                head_id=f\"{sentence_counter}_{token_syntax.parent}\", \n",
    "                rel=token_syntax.link_name, \n",
    "                pos=token_pos, \n",
    "                feats=token_feats\n",
    "            )\n",
    "        )\n",
    "        \n",
    "        token_counter += 1\n",
    "        \n",
    "        if token_counter == len(annotation['syntax_dep_tree'][sentence_counter]):\n",
    "            token_counter = 0\n",
    "            sentence_counter += 1\n",
    "            \n",
    "        if sentence_counter == len(annotation['syntax_dep_tree']):\n",
    "            return result"
   ]
  },
  {
   "cell_type": "code",
   "execution_count": 6,
   "metadata": {
    "colab": {
     "base_uri": "https://localhost:8080/",
     "height": 329
    },
    "executionInfo": {
     "elapsed": 439,
     "status": "ok",
     "timestamp": 1602166006352,
     "user": {
      "displayName": "Elena Chistova",
      "photoUrl": "",
      "userId": "12812817226965674873"
     },
     "user_tz": -180
    },
    "id": "WMJ72IIV2Erw",
    "outputId": "298da2d5-61bf-497b-87b1-76d16a638a05"
   },
   "outputs": [
    {
     "name": "stdout",
     "output_type": "stream",
     "text": [
      "          ┌► Чашка          nsubj\n",
      "    ┌─┌─┌─└─ стоит          \n",
      "    │ │ │ ┌► на             case\n",
      "    │ │ └►└─ столе          obl\n",
      "    │ │   ┌► и              cc\n",
      "    │ └──►└─ дымится        conj\n",
      "    └──────► .              punct\n",
      "          ┌► В              case\n",
      "        ┌►└─ Минпросвещения obl\n",
      "┌─────┌─└─── рассказали     \n",
      "│     │   ┌► о              case\n",
      "│   ┌─└──►└─ разработке     obl\n",
      "│   │     ┌► российского    amod\n",
      "│ ┌─└──►┌─└─ аналога        nmod\n",
      "│ │     └──► TikTok         nmod\n",
      "│ │       ┌► для            case\n",
      "│ └──────►└─ школьников     nmod\n",
      "└──────────► .              punct\n"
     ]
    }
   ],
   "source": [
    "syntax_markup(isanlp2natasha(result)).print()"
   ]
  },
  {
   "cell_type": "markdown",
   "metadata": {
    "id": "Hj1oveMEFv1m"
   },
   "source": [
    "## Задание для семинара (2 балла)\n",
    "\n",
    "На практике часто требуется сравнивать предложения. Если нужно сравнить значения двух предложений, узнать, говорят ли они о похожих фактах, можно использовать сравнение векторов этих предложений. Если нужно сравнить синтаксис, например, вы хотите понять, что пользователь вопросно-ответной системы задал вопрос в характерной для какого-то вида ответа форме, или хотите найти в текстовом корпусе все предложения-факты, синтаксически похожие на предложение \"Пушкин родился в Москве\", то можно сравнивать структуры деревьев зависимостей. Для этого, в частности, можно использовать такую метрику, как расстояние редактирования деревьев. \n",
    "\n",
    "Расстояние редактирования строк мы уже видели: это минимальное количество операций редактирования, необходимых для превращения одной строки в другую. Определение расстояния редактирования графов и деревьев аналогично. В набор операций редактирования входят удаление или вставка вершины, удаление или вставка ребра, изменение метки вершины, изменение метки ребра.  У вас есть три предложения, которые надо попарно сравнить."
   ]
  },
  {
   "cell_type": "code",
   "execution_count": 7,
   "metadata": {
    "id": "4QZp5fTQGaoH"
   },
   "outputs": [],
   "source": [
    "examples = [\"Привет, у нас на кухне нашли плесень!\", \n",
    "            \"На нашей кухне нашли много всего: бактерии, грибки и позавчерашнее молоко.\",\n",
    "            \"Привет, у них в подвале нашли клад!\" ]"
   ]
  },
  {
   "cell_type": "markdown",
   "metadata": {
    "id": "obi3GhpBGeTd"
   },
   "source": [
    "Первое и третье не очень похожи лексически, и описывают они совсем непохожие факты, но если мы обезличим их деревья зависимостей, а, скажем, возьмем в качестве меток токенов только их части речи, то увидим, что синтаксически они одинаковы. "
   ]
  },
  {
   "cell_type": "code",
   "execution_count": 14,
   "metadata": {
    "id": "bF9rwfeeGjHV"
   },
   "outputs": [
    {
     "name": "stdout",
     "output_type": "stream",
     "text": [
      "Requirement already satisfied: zss in /home/peter/p/tf-demo/lib/python3.9/site-packages (1.2.0)\n",
      "Requirement already satisfied: six in /home/peter/p/tf-demo/lib/python3.9/site-packages (from zss) (1.16.0)\n",
      "\n",
      "\u001b[1m[\u001b[0m\u001b[34;49mnotice\u001b[0m\u001b[1;39;49m]\u001b[0m\u001b[39;49m A new release of pip available: \u001b[0m\u001b[31;49m22.2.2\u001b[0m\u001b[39;49m -> \u001b[0m\u001b[32;49m22.3.1\u001b[0m\n",
      "\u001b[1m[\u001b[0m\u001b[34;49mnotice\u001b[0m\u001b[1;39;49m]\u001b[0m\u001b[39;49m To update, run: \u001b[0m\u001b[32;49mpip install --upgrade pip\u001b[0m\n"
     ]
    }
   ],
   "source": [
    "! pip install zss"
   ]
  },
  {
   "cell_type": "code",
   "execution_count": 8,
   "metadata": {
    "id": "9cfjOQEeGp5g"
   },
   "outputs": [],
   "source": [
    "# ToDO: Поскольку мы будем вычислять расстояние между деревьями зависимостей, здесь нужно инициализировать морфосинтаксический анализатор\n",
    "# Нам понадобятся не только синтаксис, но и части речи!\n",
    "#\n",
    "from isanlp.processor_udpipe import ProcessorUDPipe\n",
    "processor = ProcessorUDPipe('russian-syntagrus-ud-2.5-191206.udpipe')"
   ]
  },
  {
   "cell_type": "code",
   "execution_count": 9,
   "metadata": {
    "id": "rvJ2f_klGwkn"
   },
   "outputs": [],
   "source": [
    "from zss import simple_distance, Node\n",
    "\n",
    "\n",
    "def pos_dep_tree(postags, syntax_dep_tree):\n",
    "    \"\"\" Конвертируем результат морфосинтаксического анализа в zss-дерево из частей речи и синтаксических связей\n",
    "    NOUN -> advmod -> VERB \"\"\"\n",
    "    \n",
    "    root = Node('root')\n",
    "    pos_nodes = {-1: root}\n",
    "    for i, postag in enumerate(postags):\n",
    "        pos_nodes[i] = Node(postag)\n",
    "\n",
    "    for i, dependency_edge in enumerate(syntax_dep_tree):\n",
    "        # ToDO: Здесь в зависимости от выбранного формата синтаксических аннотаций заполняем граф значениями\n",
    "        # <синтаксическое отношение, порядковый номер вершины (токена), порядковый номер его родительской вершины>\n",
    "        #\n",
    "        relation, index, parent_index = vars(dependency_edge)['link_name'], i, vars(dependency_edge)['parent']\n",
    "        ###########################\n",
    "        relation_node = Node(relation)\n",
    "        pos_nodes[parent_index].addkid(relation_node)\n",
    "        relation_node.addkid(pos_nodes[index])\n",
    "\n",
    "    return root\n",
    "\n",
    "def sent_dep_tree(sent):\n",
    "    \"\"\" Получаем список постегов и список синтаксических аннотаций слов предложения, полученные выбранным анализатором (или анализаторами) \"\"\"\n",
    "    \n",
    "    result = processor(sent)\n",
    "    postags = result['postag'][0]\n",
    "    syntax_dep_tree = result['syntax_dep_tree'][0]\n",
    "    return pos_dep_tree(postags, syntax_dep_tree)\n",
    "\n",
    "def dep_tree_similarity(dep1, dep2, smoothing=5.0):\n",
    "    return smoothing / (smoothing + simple_distance(dep1, dep2))\n",
    "\n",
    "def sentence_similarity(sent1, sent2, smoothing=5.0):\n",
    "    return dep_tree_similarity(sent_dep_tree(sent1), sent_dep_tree(sent2), smoothing)"
   ]
  },
  {
   "cell_type": "code",
   "execution_count": 10,
   "metadata": {
    "id": "JO6oyV8THB2b"
   },
   "outputs": [
    {
     "name": "stdout",
     "output_type": "stream",
     "text": [
      "('Привет, у нас на кухне нашли плесень!', 'На нашей кухне нашли много всего: бактерии, грибки и позавчерашнее молоко.', 0.1724137931034483)\n",
      "('На нашей кухне нашли много всего: бактерии, грибки и позавчерашнее молоко.', 'Привет, у них в подвале нашли клад!', 0.1724137931034483)\n",
      "('Привет, у нас на кухне нашли плесень!', 'Привет, у них в подвале нашли клад!', 1.0)\n"
     ]
    }
   ],
   "source": [
    "for pair in [[0, 1], [1, 2], [0, 2]]:\n",
    "    print((examples[pair[0]], examples[pair[1]],\n",
    "           sentence_similarity(examples[pair[0]], examples[pair[1]])))"
   ]
  },
  {
   "cell_type": "markdown",
   "metadata": {
    "id": "IoTuWt-CIsY_"
   },
   "source": [
    "\\* *Ради интереса и дополнительных баллов за активность можете попробовать векторизовать эти предложения [трансформером](https://huggingface.co/DeepPavlov/rubert-base-cased-sentence#rubert-base-cased-sentence) и посчитать косинусную близость. Но это не обязательно.*"
   ]
  },
  {
   "cell_type": "markdown",
   "metadata": {
    "id": "QwS83LQ_2Erz"
   },
   "source": [
    "## Домашнее задание (6 баллов)\n",
    "\n",
    "![image.png](data:image/png;base64,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)"
   ]
  },
  {
   "cell_type": "markdown",
   "metadata": {
    "id": "6dy7kmb-2Erz"
   },
   "source": [
    "\n",
    "\n",
    "\n",
    "Обучите модель для извлечения семантических аргументов на основе русскоязычного корпуса Framebank. В качестве предикатов использовать глаголы, причастия, деепричастия. Возможный вид таблицы признаков (в первой колонке ``isRel`` - значения, которые нужно предсказать) для примера на картинке:\n",
    "\n",
    "| isRel    | Predicate       | Argument        | PredNum  | ArgNum | PredPOS | ArgPOS | PredParent| PredParentRelation | ArgParent | ArgParentRelation | ArgChild_case\n",
    "| ---    | ---             | ---             | ---      | ---    | ---     | ---    | ---\t\t  | ---\t\t\t\t   | ---       | ---               | ---\n",
    "| True   | стоит           | Чашка           | 1\t\t  | 0\t   | VERB    | NOUN   | -1        |\t\t\t\t\t   | 1         | nsubj             |\n",
    "| True   | стоит\t\t     | столе           | 1\t\t  | 3      | VERB    | NOUN\t  | -1\t\t  |\t\t\t\t\t   | 1         | obl\t\t\t   | на\n",
    "| True   | дымится\t     | Чашка\t\t   | 5\t\t  | 0\t   | VERB\t | NOUN   | 1\t\t  | conj\t\t\t   | 1\t\t   | nsubj\t\t\t   |\n",
    "| False  | дымится\t\t | столе\t\t   | 5\t\t  | 3\t   | VERB\t | NOUN   | 1\t\t  | conj\t\t\t   | 1\t\t   | obl\t\t\t   | на\n",
    "| True   | рассказали      | Минпросвещения  | 2        | 1      | VERB    | PROPN  | -1        |\t\t\t\t\t   | 2\t\t   | obl\t\t\t   | в\n",
    "| True\t | рассказали\t\t | разработке\t   | 2   \t  | 4      | VERB    | NOUN   | -1\t\t  |\t\t\t\t\t   | 2\t\t   | obl\t\t\t   | о\n",
    "| False\t | рассказали      | аналога         | 2        | 6\t   | VERB    | NOUN   | -1        |\t\t\t\t\t   | 4\t\t   | nmod\t\t\t   | \n",
    "| False  | рассказали      | TikTok\t\t   | 2        | 7\t   | VERB\t | PROPN  | -1 \t\t  |\t\t\t\t\t   | 6\t\t   | nmod\t\t\t   |\n",
    "| False\t | рассказали\t\t | школьников\t   | 2 \t\t  | 9\t   | VERB\t | NOUN   | -1 \t\t  |\t\t\t\t\t   | 6\t\t   | nmod\t\t\t   | для\n",
    "\n",
    "* Проблему представляют сложноподчиненные предложения, однородные предикаты/аргументы, причастные и деепричастные обороты\n",
    "* Некоторые тексты из корпуса не содержат размеченные роли. Эти тексты не обрабатывайте.\n",
    "* Для примера дальнейший код запущен на первых тридцати записях корпуса. Вам нужно использовать все данные.\n",
    "\n",
    "Будут приняты решения, присланные до 12:00 13 октября (без штрафа)."
   ]
  },
  {
   "cell_type": "markdown",
   "metadata": {
    "id": "sVYt8Ofn2Er0"
   },
   "source": [
    "#### Загружаем корпус "
   ]
  },
  {
   "cell_type": "code",
   "execution_count": 75,
   "metadata": {
    "id": "gdCAMAP12Er0"
   },
   "outputs": [
    {
     "name": "stdout",
     "output_type": "stream",
     "text": [
      "Will not apply HSTS. The HSTS database must be a regular and non-world-writable file.\n",
      "ERROR: could not open HSTS store at '/home/peter/.wget-hsts'. HSTS will be disabled.\n",
      "--2022-12-24 18:13:55--  https://www.dropbox.com/s/ewgvvsqqtbtrs4z/framebank_train.json\n",
      "Resolving www.dropbox.com (www.dropbox.com)... 162.125.70.18, 2620:100:6026:18::a27d:4612\n",
      "Connecting to www.dropbox.com (www.dropbox.com)|162.125.70.18|:443... connected.\n",
      "HTTP request sent, awaiting response... 302 Found\n",
      "Location: /s/raw/ewgvvsqqtbtrs4z/framebank_train.json [following]\n",
      "--2022-12-24 18:13:56--  https://www.dropbox.com/s/raw/ewgvvsqqtbtrs4z/framebank_train.json\n",
      "Reusing existing connection to www.dropbox.com:443.\n",
      "HTTP request sent, awaiting response... 302 Found\n",
      "Location: https://uc28256fb646bc9a9fc167be8904.dl.dropboxusercontent.com/cd/0/inline/BzNBVw7uKordENbXcye36oyY-l_CG06Y3b1K5-4nCeQfAy29-VIsqDoQxii5TcSoaIkN11Au4R3PnbctRckeCFGywWlKzC3aNFtsY32WDABDPsspn8MXHeWm4_OXagv2TdNsQvvug167bNFidwFoziWwYYyHr_TJXj_Vr9wvp5UkXA/file# [following]\n",
      "--2022-12-24 18:13:57--  https://uc28256fb646bc9a9fc167be8904.dl.dropboxusercontent.com/cd/0/inline/BzNBVw7uKordENbXcye36oyY-l_CG06Y3b1K5-4nCeQfAy29-VIsqDoQxii5TcSoaIkN11Au4R3PnbctRckeCFGywWlKzC3aNFtsY32WDABDPsspn8MXHeWm4_OXagv2TdNsQvvug167bNFidwFoziWwYYyHr_TJXj_Vr9wvp5UkXA/file\n",
      "Resolving uc28256fb646bc9a9fc167be8904.dl.dropboxusercontent.com (uc28256fb646bc9a9fc167be8904.dl.dropboxusercontent.com)... 162.125.70.15, 2620:100:6026:15::a27d:460f\n",
      "Connecting to uc28256fb646bc9a9fc167be8904.dl.dropboxusercontent.com (uc28256fb646bc9a9fc167be8904.dl.dropboxusercontent.com)|162.125.70.15|:443... connected.\n",
      "HTTP request sent, awaiting response... 200 OK\n",
      "Length: 363978260 (347M) [text/plain]\n",
      "Saving to: ‘framebank_train.json’\n",
      "\n",
      "framebank_train.jso 100%[===================>] 347.12M  2.06MB/s    in 2m 44s  \n",
      "\n",
      "2022-12-24 18:16:42 (2.12 MB/s) - ‘framebank_train.json’ saved [363978260/363978260]\n",
      "\n"
     ]
    }
   ],
   "source": [
    "! wget https://www.dropbox.com/s/ewgvvsqqtbtrs4z/framebank_train.json"
   ]
  },
  {
   "cell_type": "code",
   "execution_count": 76,
   "metadata": {
    "id": "1BcScIua2Er2",
    "scrolled": true
   },
   "outputs": [
    {
     "name": "stdout",
     "output_type": "stream",
     "text": [
      "Will not apply HSTS. The HSTS database must be a regular and non-world-writable file.\n",
      "ERROR: could not open HSTS store at '/home/peter/.wget-hsts'. HSTS will be disabled.\n",
      "--2022-12-24 18:16:42--  https://www.dropbox.com/s/g5c2npwingpyavi/framebank_test.json\n",
      "Resolving www.dropbox.com (www.dropbox.com)... 162.125.70.18, 2620:100:6026:18::a27d:4612\n",
      "Connecting to www.dropbox.com (www.dropbox.com)|162.125.70.18|:443... connected.\n",
      "HTTP request sent, awaiting response... 302 Found\n",
      "Location: /s/raw/g5c2npwingpyavi/framebank_test.json [following]\n",
      "--2022-12-24 18:16:42--  https://www.dropbox.com/s/raw/g5c2npwingpyavi/framebank_test.json\n",
      "Reusing existing connection to www.dropbox.com:443.\n",
      "HTTP request sent, awaiting response... 302 Found\n",
      "Location: https://uc158d11de1b1cddf2a28e21a0e5.dl.dropboxusercontent.com/cd/0/inline/BzMkrUfeA62Bgq3L-YgN-TgXAPkpv3aK2KRUZLGrGQ_cuxMMHPXVpqCosyW6gUttVntV39kHDkcfY6MQHT8XJ3yy1SqSskjNhQIHCzRLBCk32YW22WoCcN80UC7mIkb1VBE2H-rX9h_VuzFJlSr8UOwKTHz8gMhy4aWuogAMPPR2aA/file# [following]\n",
      "--2022-12-24 18:16:43--  https://uc158d11de1b1cddf2a28e21a0e5.dl.dropboxusercontent.com/cd/0/inline/BzMkrUfeA62Bgq3L-YgN-TgXAPkpv3aK2KRUZLGrGQ_cuxMMHPXVpqCosyW6gUttVntV39kHDkcfY6MQHT8XJ3yy1SqSskjNhQIHCzRLBCk32YW22WoCcN80UC7mIkb1VBE2H-rX9h_VuzFJlSr8UOwKTHz8gMhy4aWuogAMPPR2aA/file\n",
      "Resolving uc158d11de1b1cddf2a28e21a0e5.dl.dropboxusercontent.com (uc158d11de1b1cddf2a28e21a0e5.dl.dropboxusercontent.com)... 162.125.70.15, 2620:100:6026:15::a27d:460f\n",
      "Connecting to uc158d11de1b1cddf2a28e21a0e5.dl.dropboxusercontent.com (uc158d11de1b1cddf2a28e21a0e5.dl.dropboxusercontent.com)|162.125.70.15|:443... connected.\n",
      "HTTP request sent, awaiting response... 200 OK\n",
      "Length: 91720623 (87M) [text/plain]\n",
      "Saving to: ‘framebank_test.json’\n",
      "\n",
      "framebank_test.json 100%[===================>]  87.47M  2.32MB/s    in 40s     \n",
      "\n",
      "2022-12-24 18:17:23 (2.19 MB/s) - ‘framebank_test.json’ saved [91720623/91720623]\n",
      "\n"
     ]
    }
   ],
   "source": [
    "! wget https://www.dropbox.com/s/g5c2npwingpyavi/framebank_test.json"
   ]
  },
  {
   "cell_type": "code",
   "execution_count": 11,
   "metadata": {
    "id": "dCEmVQMZ2Er5"
   },
   "outputs": [],
   "source": [
    "import json\n",
    "\n",
    "with open('framebank_train.json', 'r', encoding='utf-8') as f:\n",
    "    corpus_train = json.load(f)\n",
    "\n",
    "with open('framebank_test.json', 'r', encoding='utf-8') as f:\n",
    "    corpus_test= json.load(f)"
   ]
  },
  {
   "cell_type": "code",
   "execution_count": 12,
   "metadata": {},
   "outputs": [],
   "source": [
    "import pymorphy2\n",
    "\n",
    "morph=pymorphy2.MorphAnalyzer()"
   ]
  },
  {
   "cell_type": "code",
   "execution_count": 13,
   "metadata": {},
   "outputs": [
    {
     "data": {
      "text/plain": [
       "'PRTS'"
      ]
     },
     "execution_count": 13,
     "metadata": {},
     "output_type": "execute_result"
    }
   ],
   "source": [
    "p = morph.parse('соблюдаема')[0]\n",
    "p.tag.POS"
   ]
  },
  {
   "cell_type": "code",
   "execution_count": 34,
   "metadata": {},
   "outputs": [],
   "source": [
    "posarr = []\n",
    "gpair = 0"
   ]
  },
  {
   "cell_type": "code",
   "execution_count": 125,
   "metadata": {
    "id": "awcDH1qU2Er7"
   },
   "outputs": [],
   "source": [
    "import numpy as np\n",
    "from tqdm.notebook import tqdm\n",
    "import pandas as pd\n",
    "from functools import reduce\n",
    "from operator import add\n",
    "\n",
    "\n",
    "def get_example(corpus, ex_number, part_id):\n",
    "    \"\"\" makes text span from the single corpus annotation \"\"\"\n",
    "    \n",
    "    words = []\n",
    "    for obj in corpus[ex_number][1][part_id]:\n",
    "        words.append(obj['form'])\n",
    "        \n",
    "    return ' '.join(words)\n",
    "\n",
    "    \n",
    "def get_roles_true(corpus_obj):\n",
    "    \"\"\" extracts true roles from the single corpus annotation \n",
    "        \n",
    "        IMPORTANT: Some texts do not contain any annotated roles. In this case, \n",
    "        the function returns ({}, {}).\n",
    "    \"\"\"    \n",
    "        \n",
    "    predicates = {}\n",
    "    arguments = {}\n",
    "    for i, obj in enumerate(corpus_obj):\n",
    "        if 'rank' in obj:\n",
    "            if obj['rank'] == 'Предикат':\n",
    "                predicate = {\n",
    "                    'lemma': obj['lemma'],\n",
    "                    'form': obj['form']\n",
    "                }\n",
    "                predicates[i] = predicate\n",
    "            else:\n",
    "                if 'lemma' not in obj:\n",
    "                    argument = {\n",
    "                        'lemma': obj['form'],\n",
    "                        'form': obj['form'],\n",
    "                        'tag': obj['rolepred1'],\n",
    "                        'idx': i\n",
    "                    }\n",
    "                else:\n",
    "                    argument = {\n",
    "                        'lemma': obj['lemma'],\n",
    "                        'form': obj['form'],\n",
    "                        'tag': obj['rolepred1'],\n",
    "                        'idx': i\n",
    "                    }\n",
    "\n",
    "                pred_id = obj['fillpred']\n",
    "                if pred_id not in arguments.keys():\n",
    "                    arguments[pred_id] = []\n",
    "                arguments[pred_id].append(argument)\n",
    "\n",
    "    return predicates, arguments\n",
    "\n",
    "\n",
    "def get_pairs(annot, part_id):\n",
    "\n",
    "    \n",
    "    predicates = {}\n",
    "    arguments = {}\n",
    "    \n",
    "    token_counter = 0\n",
    "    token_sum = 0\n",
    "    i = 0\n",
    "    predicates_all = ['VERB', 'PRTF', 'PRTS', 'GRND']\n",
    "    arguments_all = ['NOUN', 'PRON', 'ADJ', 'PROPN']\n",
    "\n",
    "    for sent, syntannot in enumerate(annot['syntax_dep_tree']):\n",
    "        token_sum += i\n",
    "        \n",
    "        for i, word in enumerate(syntannot):\n",
    "            token_counter += 1\n",
    "            \n",
    "            p = morph.parse(annot['lemma'][sent][i])[0]\n",
    "            \n",
    "            if p.tag.POS in predicates_all:\n",
    "\n",
    "                predicates[token_counter] = {\n",
    "                    'lemma': annot['lemma'][sent][i],\n",
    "                }\n",
    "                arguments[token_counter] = []\n",
    "                \n",
    "                for j in range(len(annot['lemma'][sent])):\n",
    "                    if annot['postag'][sent][j] in arguments_all:\n",
    "                        arguments[token_counter].append({\n",
    "                            'idx': token_sum + j,\n",
    "                            'lemma': annot['lemma'][sent][j],\n",
    "                            'tag': annot['postag'][sent][j],\n",
    "                        })\n",
    "                        \n",
    "    return predicates, arguments\n",
    "\n",
    "\n",
    "def get_features(annot, corpus_obj, sent, pred_i, arg_i, gt, data):\n",
    "    predicate = annot['form'][sent][pred_i]\n",
    "    argument = annot['form'][sent][arg_i]\n",
    "    predLem = annot['lemma'][sent][pred_i]\n",
    "    argLem = annot['lemma'][sent][arg_i]\n",
    "    predPOS = morph.parse(annot['lemma'][sent][pred_i])[0].tag.POS\n",
    "    argPOS = annot['postag'][sent][arg_i]\n",
    "    predParent = vars(annot['syntax_dep_tree'][sent][pred_i])['parent']\n",
    "    argParent = vars(annot['syntax_dep_tree'][sent][arg_i])['parent']\n",
    "    argParentRelation = vars(annot['syntax_dep_tree'][sent][arg_i])['link_name']\n",
    "    \n",
    "    data.append({})\n",
    "    data[-1].update(dict(\n",
    "        predicate=predicate.lower(),\n",
    "        argument=argument,\n",
    "        predLem = predLem,\n",
    "        argLem=argLem,\n",
    "        predNum = pred_i,\n",
    "        argNum = arg_i,\n",
    "        predPOS = predPOS,\n",
    "        argPOS = argPOS,\n",
    "        predParent = predParent,\n",
    "        argParent = argParent,\n",
    "        argParentRelation = argParentRelation,\n",
    "        isRel=(predicate, argument) in gt\n",
    "    ))\n",
    "\n",
    "\n",
    "def make_data(annot, corpus_obj):\n",
    "    \"\"\" predicts all the possible predicate-NOUN pairs from the single text from the corpus \n",
    "    \n",
    "        YOUR TASK IS:\n",
    "        - to extract not only NOUN, but ('NOUN', 'PRON', 'ADJ', 'PROPN') roles candidates\n",
    "    \"\"\"\n",
    "\n",
    "    data = []\n",
    "    true_preds, true_args = get_roles_true(corpus_obj)\n",
    "    if true_preds == {} and true_args == {}:\n",
    "        return []\n",
    "    sym_dif = set(true_preds.keys()).symmetric_difference(set(true_args))\n",
    "\n",
    "    if len(sym_dif) != 0:\n",
    "        # если есть аргумент без предиката или предикат без аргумента - удаляем их\n",
    "        for k in sym_dif:\n",
    "            if k in true_preds: del true_preds[k]\n",
    "            if k in true_args: del true_args[k]\n",
    "\n",
    "    gt = {(true_preds[k]['form'], true_args[k][p]['form']) \n",
    "          for k in true_preds \n",
    "          for p in range(len(true_args[k]))}\n",
    "    predicates = {true_preds[k]['form'] for k in true_preds}\n",
    "\n",
    "    arg_candidates = ['NOUN', 'PRON', 'ADJ', 'PROPN']\n",
    "    predicates_all = ['VERB', 'PRTF', 'PRTS', 'GRND']\n",
    "\n",
    "    if len(gt) == 0:\n",
    "        return []\n",
    "\n",
    "    for sent, syntannot in enumerate(annot['syntax_dep_tree']):\n",
    "        for i, word in enumerate(syntannot):\n",
    "            p = morph.parse(annot['lemma'][sent][i])[0]\n",
    "            if p.tag.POS in predicates_all and annot['form'][sent][i] in predicates:\n",
    "                for j in range(len(annot['lemma'][sent])):\n",
    "                    if annot['postag'][sent][j] in arg_candidates:\n",
    "                        get_features(annot, corpus_obj, sent, i, j, gt, data)\n",
    "    return data\n",
    "\n",
    "\n",
    "def get_example(corpus, ex_number):\n",
    "    words = []\n",
    "    for obj in corpus[ex_number]:\n",
    "        words.append(obj['form'])\n",
    "\n",
    "    return ' '.join(words)\n",
    "\n",
    "\n",
    "def udpipe_batch_process(texts):\n",
    "    parsed = udpipe('\\n\\n'.join(texts))\n",
    "    result = [{key: [parsed[key][i]] for key in parsed.keys()} for i in range(len(parsed['sentences']))]\n",
    "    return result\n",
    "\n",
    "\n",
    "def preprocess_corpus(corpus):\n",
    "    \"\"\" Берем тексты из корпуса и пропускаем их через UDPipe \"\"\"\n",
    "\n",
    "    fl_corpus = []\n",
    "    for c in corpus:\n",
    "        fl_corpus += c[1]\n",
    "    corpus = fl_corpus\n",
    "    true_roles = [get_roles_true(sent) for sent in corpus]\n",
    "    texts = [' '.join(o['form'] for o in sent) for sent in corpus]\n",
    "    pred_roles = [udpipe(text) for text in tqdm(texts, desc='Analyzing texts')]\n",
    "\n",
    "    return pred_roles, corpus"
   ]
  },
  {
   "cell_type": "code",
   "execution_count": 55,
   "metadata": {
    "colab": {
     "base_uri": "https://localhost:8080/"
    },
    "executionInfo": {
     "elapsed": 3970,
     "status": "ok",
     "timestamp": 1631719503147,
     "user": {
      "displayName": "Elena Chistova",
      "photoUrl": "https://lh3.googleusercontent.com/a/default-user=s64",
      "userId": "12812817226965674873"
     },
     "user_tz": -180
    },
    "id": "MAZMiP602NpT",
    "outputId": "e8832dd0-4b62-4be4-c19a-a0b403e0f517"
   },
   "outputs": [
    {
     "data": {
      "application/vnd.jupyter.widget-view+json": {
       "model_id": "d9bea38c0a534fae906f4b7b4361386a",
       "version_major": 2,
       "version_minor": 0
      },
      "text/plain": [
       "Analyzing texts:   0%|          | 0/150108 [00:00<?, ?it/s]"
      ]
     },
     "metadata": {},
     "output_type": "display_data"
    },
    {
     "data": {
      "application/vnd.jupyter.widget-view+json": {
       "model_id": "235d3e71befd4edb995caf1e4b286f5c",
       "version_major": 2,
       "version_minor": 0
      },
      "text/plain": [
       "Analyzing texts:   0%|          | 0/37037 [00:00<?, ?it/s]"
      ]
     },
     "metadata": {},
     "output_type": "display_data"
    },
    {
     "name": "stdout",
     "output_type": "stream",
     "text": [
      "CPU times: user 41min 12s, sys: 2min 40s, total: 43min 53s\n",
      "Wall time: 48min 20s\n"
     ]
    }
   ],
   "source": [
    "%%time\n",
    "train_data_ud, cor_train = preprocess_corpus(corpus_train)\n",
    "test_data_ud, cor_test = preprocess_corpus(corpus_test)"
   ]
  },
  {
   "cell_type": "code",
   "execution_count": 182,
   "metadata": {
    "colab": {
     "base_uri": "https://localhost:8080/"
    },
    "executionInfo": {
     "elapsed": 670,
     "status": "ok",
     "timestamp": 1631719523081,
     "user": {
      "displayName": "Elena Chistova",
      "photoUrl": "https://lh3.googleusercontent.com/a/default-user=s64",
      "userId": "12812817226965674873"
     },
     "user_tz": -180
    },
    "id": "YILre0jwAt40",
    "outputId": "489acb22-c7df-4369-8ec7-c567cd8ea574"
   },
   "outputs": [
    {
     "data": {
      "application/vnd.jupyter.widget-view+json": {
       "model_id": "6d7fea773f3a40baac79633868a80984",
       "version_major": 2,
       "version_minor": 0
      },
      "text/plain": [
       "  0%|          | 0/150108 [00:00<?, ?it/s]"
      ]
     },
     "metadata": {},
     "output_type": "display_data"
    },
    {
     "data": {
      "application/vnd.jupyter.widget-view+json": {
       "model_id": "2b24f4b4a8b8419db5f2769098ee2ecc",
       "version_major": 2,
       "version_minor": 0
      },
      "text/plain": [
       "  0%|          | 0/37037 [00:00<?, ?it/s]"
      ]
     },
     "metadata": {},
     "output_type": "display_data"
    }
   ],
   "source": [
    "train_data = pd.DataFrame.from_records(reduce(add, (make_data(res, sent) for res, sent in zip(tqdm(train_data_ud), cor_train))))\n",
    "test_data = pd.DataFrame.from_records(reduce(add, (make_data(res, sent) for res, sent in zip(tqdm(test_data_ud), cor_test))))"
   ]
  },
  {
   "cell_type": "code",
   "execution_count": 183,
   "metadata": {
    "colab": {
     "base_uri": "https://localhost:8080/",
     "height": 204
    },
    "executionInfo": {
     "elapsed": 818,
     "status": "ok",
     "timestamp": 1631719525183,
     "user": {
      "displayName": "Elena Chistova",
      "photoUrl": "https://lh3.googleusercontent.com/a/default-user=s64",
      "userId": "12812817226965674873"
     },
     "user_tz": -180
    },
    "id": "GeBpRqVCBLx3",
    "outputId": "67467dde-9e00-4e2c-b4e1-d6324ab13fad"
   },
   "outputs": [
    {
     "data": {
      "text/html": [
       "<div>\n",
       "<style scoped>\n",
       "    .dataframe tbody tr th:only-of-type {\n",
       "        vertical-align: middle;\n",
       "    }\n",
       "\n",
       "    .dataframe tbody tr th {\n",
       "        vertical-align: top;\n",
       "    }\n",
       "\n",
       "    .dataframe thead th {\n",
       "        text-align: right;\n",
       "    }\n",
       "</style>\n",
       "<table border=\"1\" class=\"dataframe\">\n",
       "  <thead>\n",
       "    <tr style=\"text-align: right;\">\n",
       "      <th></th>\n",
       "      <th>predicate</th>\n",
       "      <th>argument</th>\n",
       "      <th>predLem</th>\n",
       "      <th>argLem</th>\n",
       "      <th>predNum</th>\n",
       "      <th>argNum</th>\n",
       "      <th>predPOS</th>\n",
       "      <th>argPOS</th>\n",
       "      <th>predParent</th>\n",
       "      <th>argParent</th>\n",
       "      <th>argParentRelation</th>\n",
       "      <th>isRel</th>\n",
       "    </tr>\n",
       "  </thead>\n",
       "  <tbody>\n",
       "    <tr>\n",
       "      <th>0</th>\n",
       "      <td>бесит</td>\n",
       "      <td>Это</td>\n",
       "      <td>бесит</td>\n",
       "      <td>этот</td>\n",
       "      <td>3</td>\n",
       "      <td>1</td>\n",
       "      <td>VERB</td>\n",
       "      <td>PRON</td>\n",
       "      <td>-1</td>\n",
       "      <td>0</td>\n",
       "      <td>appos</td>\n",
       "      <td>True</td>\n",
       "    </tr>\n",
       "    <tr>\n",
       "      <th>1</th>\n",
       "      <td>брызжа</td>\n",
       "      <td>ПЕРЕВОДЧИК</td>\n",
       "      <td>брызжа</td>\n",
       "      <td>переводчик</td>\n",
       "      <td>5</td>\n",
       "      <td>3</td>\n",
       "      <td>GRND</td>\n",
       "      <td>NOUN</td>\n",
       "      <td>2</td>\n",
       "      <td>2</td>\n",
       "      <td>nsubj</td>\n",
       "      <td>True</td>\n",
       "    </tr>\n",
       "    <tr>\n",
       "      <th>2</th>\n",
       "      <td>брызжа</td>\n",
       "      <td>СЛЮНОЙ</td>\n",
       "      <td>брызжа</td>\n",
       "      <td>слюна</td>\n",
       "      <td>5</td>\n",
       "      <td>6</td>\n",
       "      <td>GRND</td>\n",
       "      <td>NOUN</td>\n",
       "      <td>2</td>\n",
       "      <td>5</td>\n",
       "      <td>obl</td>\n",
       "      <td>True</td>\n",
       "    </tr>\n",
       "    <tr>\n",
       "      <th>3</th>\n",
       "      <td>беспокоит</td>\n",
       "      <td>Рваного</td>\n",
       "      <td>беспокоит</td>\n",
       "      <td>рваный</td>\n",
       "      <td>24</td>\n",
       "      <td>1</td>\n",
       "      <td>VERB</td>\n",
       "      <td>ADJ</td>\n",
       "      <td>18</td>\n",
       "      <td>2</td>\n",
       "      <td>amod</td>\n",
       "      <td>False</td>\n",
       "    </tr>\n",
       "    <tr>\n",
       "      <th>4</th>\n",
       "      <td>беспокоит</td>\n",
       "      <td>Уха</td>\n",
       "      <td>беспокоит</td>\n",
       "      <td>ух</td>\n",
       "      <td>24</td>\n",
       "      <td>2</td>\n",
       "      <td>VERB</td>\n",
       "      <td>NOUN</td>\n",
       "      <td>18</td>\n",
       "      <td>-1</td>\n",
       "      <td>root</td>\n",
       "      <td>False</td>\n",
       "    </tr>\n",
       "    <tr>\n",
       "      <th>5</th>\n",
       "      <td>беспокоит</td>\n",
       "      <td>громкий</td>\n",
       "      <td>беспокоит</td>\n",
       "      <td>громкий</td>\n",
       "      <td>24</td>\n",
       "      <td>5</td>\n",
       "      <td>VERB</td>\n",
       "      <td>ADJ</td>\n",
       "      <td>18</td>\n",
       "      <td>2</td>\n",
       "      <td>nsubj</td>\n",
       "      <td>False</td>\n",
       "    </tr>\n",
       "    <tr>\n",
       "      <th>6</th>\n",
       "      <td>беспокоит</td>\n",
       "      <td>шёпот</td>\n",
       "      <td>беспокоит</td>\n",
       "      <td>шёпот</td>\n",
       "      <td>24</td>\n",
       "      <td>8</td>\n",
       "      <td>VERB</td>\n",
       "      <td>NOUN</td>\n",
       "      <td>18</td>\n",
       "      <td>7</td>\n",
       "      <td>obj</td>\n",
       "      <td>False</td>\n",
       "    </tr>\n",
       "    <tr>\n",
       "      <th>7</th>\n",
       "      <td>беспокоит</td>\n",
       "      <td>он</td>\n",
       "      <td>беспокоит</td>\n",
       "      <td>он</td>\n",
       "      <td>24</td>\n",
       "      <td>13</td>\n",
       "      <td>VERB</td>\n",
       "      <td>PRON</td>\n",
       "      <td>18</td>\n",
       "      <td>14</td>\n",
       "      <td>nsubj</td>\n",
       "      <td>False</td>\n",
       "    </tr>\n",
       "    <tr>\n",
       "      <th>8</th>\n",
       "      <td>беспокоит</td>\n",
       "      <td>мне</td>\n",
       "      <td>беспокоит</td>\n",
       "      <td>я</td>\n",
       "      <td>24</td>\n",
       "      <td>16</td>\n",
       "      <td>VERB</td>\n",
       "      <td>PRON</td>\n",
       "      <td>18</td>\n",
       "      <td>19</td>\n",
       "      <td>iobj</td>\n",
       "      <td>False</td>\n",
       "    </tr>\n",
       "    <tr>\n",
       "      <th>9</th>\n",
       "      <td>беспокоит</td>\n",
       "      <td>ясно</td>\n",
       "      <td>беспокоит</td>\n",
       "      <td>ясный</td>\n",
       "      <td>24</td>\n",
       "      <td>19</td>\n",
       "      <td>VERB</td>\n",
       "      <td>ADJ</td>\n",
       "      <td>18</td>\n",
       "      <td>18</td>\n",
       "      <td>obl</td>\n",
       "      <td>False</td>\n",
       "    </tr>\n",
       "  </tbody>\n",
       "</table>\n",
       "</div>"
      ],
      "text/plain": [
       "   predicate    argument    predLem      argLem  predNum  argNum predPOS  \\\n",
       "0      бесит         Это      бесит        этот        3       1    VERB   \n",
       "1     брызжа  ПЕРЕВОДЧИК     брызжа  переводчик        5       3    GRND   \n",
       "2     брызжа      СЛЮНОЙ     брызжа       слюна        5       6    GRND   \n",
       "3  беспокоит     Рваного  беспокоит      рваный       24       1    VERB   \n",
       "4  беспокоит         Уха  беспокоит          ух       24       2    VERB   \n",
       "5  беспокоит     громкий  беспокоит     громкий       24       5    VERB   \n",
       "6  беспокоит       шёпот  беспокоит       шёпот       24       8    VERB   \n",
       "7  беспокоит          он  беспокоит          он       24      13    VERB   \n",
       "8  беспокоит         мне  беспокоит           я       24      16    VERB   \n",
       "9  беспокоит        ясно  беспокоит       ясный       24      19    VERB   \n",
       "\n",
       "  argPOS  predParent  argParent argParentRelation  isRel  \n",
       "0   PRON          -1          0             appos   True  \n",
       "1   NOUN           2          2             nsubj   True  \n",
       "2   NOUN           2          5               obl   True  \n",
       "3    ADJ          18          2              amod  False  \n",
       "4   NOUN          18         -1              root  False  \n",
       "5    ADJ          18          2             nsubj  False  \n",
       "6   NOUN          18          7               obj  False  \n",
       "7   PRON          18         14             nsubj  False  \n",
       "8   PRON          18         19              iobj  False  \n",
       "9    ADJ          18         18               obl  False  "
      ]
     },
     "execution_count": 183,
     "metadata": {},
     "output_type": "execute_result"
    }
   ],
   "source": [
    "test_data[:10]"
   ]
  },
  {
   "cell_type": "code",
   "execution_count": 184,
   "metadata": {},
   "outputs": [],
   "source": [
    "argParRel = list(set(list(train_data['argParentRelation'].value_counts().keys()) + list(test_data['argParentRelation'].value_counts().keys())))"
   ]
  },
  {
   "cell_type": "code",
   "execution_count": 185,
   "metadata": {},
   "outputs": [],
   "source": [
    "def isRel(x):\n",
    "    if x == True:\n",
    "        return 1\n",
    "    return 0\n",
    "\n",
    "def argParRelNum(pos):\n",
    "    return argParRel.index(pos)\n",
    "\n",
    "def POS(postag):\n",
    "    preds = ['VERB', 'PRTF', 'PRTS', 'GRND']\n",
    "    args = ['NOUN', 'PRON', 'ADJ', 'PROPN']\n",
    "    if postag in preds:\n",
    "        return preds.index(postag)\n",
    "    if postag in args:\n",
    "        return args.index(postag)"
   ]
  },
  {
   "cell_type": "code",
   "execution_count": 186,
   "metadata": {},
   "outputs": [],
   "source": [
    "train_data['argParRel'] = train_data.argParentRelation.map(argParRelNum)\n",
    "train_data['predPOS_'] = train_data.predPOS.map(POS)\n",
    "train_data['argPOS_'] = train_data.argPOS.map(POS)\n",
    "\n",
    "test_data['argParRel'] = test_data.argParentRelation.map(argParRelNum)\n",
    "test_data['predPOS_'] = test_data.predPOS.map(POS)\n",
    "test_data['argPOS_'] = test_data.argPOS.map(POS)"
   ]
  },
  {
   "cell_type": "code",
   "execution_count": 187,
   "metadata": {},
   "outputs": [
    {
     "data": {
      "text/html": [
       "<div>\n",
       "<style scoped>\n",
       "    .dataframe tbody tr th:only-of-type {\n",
       "        vertical-align: middle;\n",
       "    }\n",
       "\n",
       "    .dataframe tbody tr th {\n",
       "        vertical-align: top;\n",
       "    }\n",
       "\n",
       "    .dataframe thead th {\n",
       "        text-align: right;\n",
       "    }\n",
       "</style>\n",
       "<table border=\"1\" class=\"dataframe\">\n",
       "  <thead>\n",
       "    <tr style=\"text-align: right;\">\n",
       "      <th></th>\n",
       "      <th>predicate</th>\n",
       "      <th>argument</th>\n",
       "      <th>predLem</th>\n",
       "      <th>argLem</th>\n",
       "      <th>predNum</th>\n",
       "      <th>argNum</th>\n",
       "      <th>predPOS</th>\n",
       "      <th>argPOS</th>\n",
       "      <th>predParent</th>\n",
       "      <th>argParent</th>\n",
       "      <th>argParentRelation</th>\n",
       "      <th>isRel</th>\n",
       "      <th>argParRel</th>\n",
       "      <th>predPOS_</th>\n",
       "      <th>argPOS_</th>\n",
       "    </tr>\n",
       "  </thead>\n",
       "  <tbody>\n",
       "    <tr>\n",
       "      <th>0</th>\n",
       "      <td>бесит</td>\n",
       "      <td>Забавный</td>\n",
       "      <td>бесит</td>\n",
       "      <td>забавный</td>\n",
       "      <td>38</td>\n",
       "      <td>0</td>\n",
       "      <td>VERB</td>\n",
       "      <td>ADJ</td>\n",
       "      <td>33</td>\n",
       "      <td>1</td>\n",
       "      <td>amod</td>\n",
       "      <td>False</td>\n",
       "      <td>26</td>\n",
       "      <td>0</td>\n",
       "      <td>2</td>\n",
       "    </tr>\n",
       "    <tr>\n",
       "      <th>1</th>\n",
       "      <td>бесит</td>\n",
       "      <td>народ</td>\n",
       "      <td>бесит</td>\n",
       "      <td>народ</td>\n",
       "      <td>38</td>\n",
       "      <td>1</td>\n",
       "      <td>VERB</td>\n",
       "      <td>NOUN</td>\n",
       "      <td>33</td>\n",
       "      <td>2</td>\n",
       "      <td>nsubj</td>\n",
       "      <td>False</td>\n",
       "      <td>18</td>\n",
       "      <td>0</td>\n",
       "      <td>0</td>\n",
       "    </tr>\n",
       "    <tr>\n",
       "      <th>2</th>\n",
       "      <td>бесит</td>\n",
       "      <td>англичане</td>\n",
       "      <td>бесит</td>\n",
       "      <td>англичанин</td>\n",
       "      <td>38</td>\n",
       "      <td>2</td>\n",
       "      <td>VERB</td>\n",
       "      <td>NOUN</td>\n",
       "      <td>33</td>\n",
       "      <td>-1</td>\n",
       "      <td>root</td>\n",
       "      <td>False</td>\n",
       "      <td>14</td>\n",
       "      <td>0</td>\n",
       "      <td>0</td>\n",
       "    </tr>\n",
       "    <tr>\n",
       "      <th>3</th>\n",
       "      <td>бесит</td>\n",
       "      <td>то</td>\n",
       "      <td>бесит</td>\n",
       "      <td>то</td>\n",
       "      <td>38</td>\n",
       "      <td>6</td>\n",
       "      <td>VERB</td>\n",
       "      <td>PRON</td>\n",
       "      <td>33</td>\n",
       "      <td>2</td>\n",
       "      <td>parataxis</td>\n",
       "      <td>False</td>\n",
       "      <td>17</td>\n",
       "      <td>0</td>\n",
       "      <td>1</td>\n",
       "    </tr>\n",
       "    <tr>\n",
       "      <th>4</th>\n",
       "      <td>бесит</td>\n",
       "      <td>я</td>\n",
       "      <td>бесит</td>\n",
       "      <td>я</td>\n",
       "      <td>38</td>\n",
       "      <td>10</td>\n",
       "      <td>VERB</td>\n",
       "      <td>PRON</td>\n",
       "      <td>33</td>\n",
       "      <td>11</td>\n",
       "      <td>nsubj</td>\n",
       "      <td>False</td>\n",
       "      <td>18</td>\n",
       "      <td>0</td>\n",
       "      <td>1</td>\n",
       "    </tr>\n",
       "    <tr>\n",
       "      <th>5</th>\n",
       "      <td>бесит</td>\n",
       "      <td>модернистое</td>\n",
       "      <td>бесит</td>\n",
       "      <td>модернистый</td>\n",
       "      <td>38</td>\n",
       "      <td>12</td>\n",
       "      <td>VERB</td>\n",
       "      <td>ADJ</td>\n",
       "      <td>33</td>\n",
       "      <td>13</td>\n",
       "      <td>amod</td>\n",
       "      <td>False</td>\n",
       "      <td>26</td>\n",
       "      <td>0</td>\n",
       "      <td>2</td>\n",
       "    </tr>\n",
       "    <tr>\n",
       "      <th>6</th>\n",
       "      <td>бесит</td>\n",
       "      <td>здание</td>\n",
       "      <td>бесит</td>\n",
       "      <td>здание</td>\n",
       "      <td>38</td>\n",
       "      <td>13</td>\n",
       "      <td>VERB</td>\n",
       "      <td>NOUN</td>\n",
       "      <td>33</td>\n",
       "      <td>11</td>\n",
       "      <td>obj</td>\n",
       "      <td>False</td>\n",
       "      <td>23</td>\n",
       "      <td>0</td>\n",
       "      <td>0</td>\n",
       "    </tr>\n",
       "    <tr>\n",
       "      <th>7</th>\n",
       "      <td>бесит</td>\n",
       "      <td>старинной</td>\n",
       "      <td>бесит</td>\n",
       "      <td>старинный</td>\n",
       "      <td>38</td>\n",
       "      <td>15</td>\n",
       "      <td>VERB</td>\n",
       "      <td>ADJ</td>\n",
       "      <td>33</td>\n",
       "      <td>16</td>\n",
       "      <td>amod</td>\n",
       "      <td>False</td>\n",
       "      <td>26</td>\n",
       "      <td>0</td>\n",
       "      <td>2</td>\n",
       "    </tr>\n",
       "    <tr>\n",
       "      <th>8</th>\n",
       "      <td>бесит</td>\n",
       "      <td>готики</td>\n",
       "      <td>бесит</td>\n",
       "      <td>готика</td>\n",
       "      <td>38</td>\n",
       "      <td>16</td>\n",
       "      <td>VERB</td>\n",
       "      <td>NOUN</td>\n",
       "      <td>33</td>\n",
       "      <td>11</td>\n",
       "      <td>obl</td>\n",
       "      <td>False</td>\n",
       "      <td>1</td>\n",
       "      <td>0</td>\n",
       "      <td>0</td>\n",
       "    </tr>\n",
       "    <tr>\n",
       "      <th>9</th>\n",
       "      <td>бесит</td>\n",
       "      <td>ее</td>\n",
       "      <td>бесит</td>\n",
       "      <td>она</td>\n",
       "      <td>38</td>\n",
       "      <td>18</td>\n",
       "      <td>VERB</td>\n",
       "      <td>PRON</td>\n",
       "      <td>33</td>\n",
       "      <td>19</td>\n",
       "      <td>nmod</td>\n",
       "      <td>False</td>\n",
       "      <td>24</td>\n",
       "      <td>0</td>\n",
       "      <td>1</td>\n",
       "    </tr>\n",
       "    <tr>\n",
       "      <th>10</th>\n",
       "      <td>бесит</td>\n",
       "      <td>подражаний</td>\n",
       "      <td>бесит</td>\n",
       "      <td>подражание</td>\n",
       "      <td>38</td>\n",
       "      <td>19</td>\n",
       "      <td>VERB</td>\n",
       "      <td>NOUN</td>\n",
       "      <td>33</td>\n",
       "      <td>16</td>\n",
       "      <td>conj</td>\n",
       "      <td>False</td>\n",
       "      <td>8</td>\n",
       "      <td>0</td>\n",
       "      <td>0</td>\n",
       "    </tr>\n",
       "    <tr>\n",
       "      <th>11</th>\n",
       "      <td>бесит</td>\n",
       "      <td>им</td>\n",
       "      <td>бесит</td>\n",
       "      <td>они</td>\n",
       "      <td>38</td>\n",
       "      <td>21</td>\n",
       "      <td>VERB</td>\n",
       "      <td>PRON</td>\n",
       "      <td>33</td>\n",
       "      <td>23</td>\n",
       "      <td>iobj</td>\n",
       "      <td>False</td>\n",
       "      <td>16</td>\n",
       "      <td>0</td>\n",
       "      <td>1</td>\n",
       "    </tr>\n",
       "    <tr>\n",
       "      <th>12</th>\n",
       "      <td>бесит</td>\n",
       "      <td>то</td>\n",
       "      <td>бесит</td>\n",
       "      <td>то</td>\n",
       "      <td>38</td>\n",
       "      <td>27</td>\n",
       "      <td>VERB</td>\n",
       "      <td>PRON</td>\n",
       "      <td>33</td>\n",
       "      <td>23</td>\n",
       "      <td>conj</td>\n",
       "      <td>False</td>\n",
       "      <td>8</td>\n",
       "      <td>0</td>\n",
       "      <td>1</td>\n",
       "    </tr>\n",
       "    <tr>\n",
       "      <th>13</th>\n",
       "      <td>бесит</td>\n",
       "      <td>я</td>\n",
       "      <td>бесит</td>\n",
       "      <td>я</td>\n",
       "      <td>38</td>\n",
       "      <td>31</td>\n",
       "      <td>VERB</td>\n",
       "      <td>PRON</td>\n",
       "      <td>33</td>\n",
       "      <td>33</td>\n",
       "      <td>nsubj</td>\n",
       "      <td>False</td>\n",
       "      <td>18</td>\n",
       "      <td>0</td>\n",
       "      <td>1</td>\n",
       "    </tr>\n",
       "    <tr>\n",
       "      <th>14</th>\n",
       "      <td>бесит</td>\n",
       "      <td>это</td>\n",
       "      <td>бесит</td>\n",
       "      <td>это</td>\n",
       "      <td>38</td>\n",
       "      <td>36</td>\n",
       "      <td>VERB</td>\n",
       "      <td>PRON</td>\n",
       "      <td>33</td>\n",
       "      <td>38</td>\n",
       "      <td>nsubj</td>\n",
       "      <td>True</td>\n",
       "      <td>18</td>\n",
       "      <td>0</td>\n",
       "      <td>1</td>\n",
       "    </tr>\n",
       "    <tr>\n",
       "      <th>15</th>\n",
       "      <td>бесит</td>\n",
       "      <td>их</td>\n",
       "      <td>бесит</td>\n",
       "      <td>их</td>\n",
       "      <td>38</td>\n",
       "      <td>37</td>\n",
       "      <td>VERB</td>\n",
       "      <td>PRON</td>\n",
       "      <td>33</td>\n",
       "      <td>38</td>\n",
       "      <td>obj</td>\n",
       "      <td>True</td>\n",
       "      <td>23</td>\n",
       "      <td>0</td>\n",
       "      <td>1</td>\n",
       "    </tr>\n",
       "    <tr>\n",
       "      <th>16</th>\n",
       "      <td>беси</td>\n",
       "      <td>беси</td>\n",
       "      <td>беси</td>\n",
       "      <td>беси</td>\n",
       "      <td>5</td>\n",
       "      <td>5</td>\n",
       "      <td>VERB</td>\n",
       "      <td>PROPN</td>\n",
       "      <td>-1</td>\n",
       "      <td>-1</td>\n",
       "      <td>root</td>\n",
       "      <td>False</td>\n",
       "      <td>14</td>\n",
       "      <td>0</td>\n",
       "      <td>3</td>\n",
       "    </tr>\n",
       "    <tr>\n",
       "      <th>17</th>\n",
       "      <td>беси</td>\n",
       "      <td>меня</td>\n",
       "      <td>беси</td>\n",
       "      <td>я</td>\n",
       "      <td>5</td>\n",
       "      <td>6</td>\n",
       "      <td>VERB</td>\n",
       "      <td>PRON</td>\n",
       "      <td>-1</td>\n",
       "      <td>5</td>\n",
       "      <td>nmod</td>\n",
       "      <td>True</td>\n",
       "      <td>24</td>\n",
       "      <td>0</td>\n",
       "      <td>1</td>\n",
       "    </tr>\n",
       "    <tr>\n",
       "      <th>18</th>\n",
       "      <td>беси</td>\n",
       "      <td>беси</td>\n",
       "      <td>беси</td>\n",
       "      <td>беси</td>\n",
       "      <td>5</td>\n",
       "      <td>5</td>\n",
       "      <td>VERB</td>\n",
       "      <td>PROPN</td>\n",
       "      <td>-1</td>\n",
       "      <td>-1</td>\n",
       "      <td>root</td>\n",
       "      <td>False</td>\n",
       "      <td>14</td>\n",
       "      <td>0</td>\n",
       "      <td>3</td>\n",
       "    </tr>\n",
       "    <tr>\n",
       "      <th>19</th>\n",
       "      <td>беси</td>\n",
       "      <td>меня</td>\n",
       "      <td>беси</td>\n",
       "      <td>я</td>\n",
       "      <td>5</td>\n",
       "      <td>6</td>\n",
       "      <td>VERB</td>\n",
       "      <td>PRON</td>\n",
       "      <td>-1</td>\n",
       "      <td>5</td>\n",
       "      <td>nmod</td>\n",
       "      <td>True</td>\n",
       "      <td>24</td>\n",
       "      <td>0</td>\n",
       "      <td>1</td>\n",
       "    </tr>\n",
       "  </tbody>\n",
       "</table>\n",
       "</div>"
      ],
      "text/plain": [
       "   predicate     argument predLem       argLem  predNum  argNum predPOS  \\\n",
       "0      бесит     Забавный   бесит     забавный       38       0    VERB   \n",
       "1      бесит        народ   бесит        народ       38       1    VERB   \n",
       "2      бесит    англичане   бесит   англичанин       38       2    VERB   \n",
       "3      бесит           то   бесит           то       38       6    VERB   \n",
       "4      бесит            я   бесит            я       38      10    VERB   \n",
       "5      бесит  модернистое   бесит  модернистый       38      12    VERB   \n",
       "6      бесит       здание   бесит       здание       38      13    VERB   \n",
       "7      бесит    старинной   бесит    старинный       38      15    VERB   \n",
       "8      бесит       готики   бесит       готика       38      16    VERB   \n",
       "9      бесит           ее   бесит          она       38      18    VERB   \n",
       "10     бесит   подражаний   бесит   подражание       38      19    VERB   \n",
       "11     бесит           им   бесит          они       38      21    VERB   \n",
       "12     бесит           то   бесит           то       38      27    VERB   \n",
       "13     бесит            я   бесит            я       38      31    VERB   \n",
       "14     бесит          это   бесит          это       38      36    VERB   \n",
       "15     бесит           их   бесит           их       38      37    VERB   \n",
       "16      беси         беси    беси         беси        5       5    VERB   \n",
       "17      беси         меня    беси            я        5       6    VERB   \n",
       "18      беси         беси    беси         беси        5       5    VERB   \n",
       "19      беси         меня    беси            я        5       6    VERB   \n",
       "\n",
       "   argPOS  predParent  argParent argParentRelation  isRel  argParRel  \\\n",
       "0     ADJ          33          1              amod  False         26   \n",
       "1    NOUN          33          2             nsubj  False         18   \n",
       "2    NOUN          33         -1              root  False         14   \n",
       "3    PRON          33          2         parataxis  False         17   \n",
       "4    PRON          33         11             nsubj  False         18   \n",
       "5     ADJ          33         13              amod  False         26   \n",
       "6    NOUN          33         11               obj  False         23   \n",
       "7     ADJ          33         16              amod  False         26   \n",
       "8    NOUN          33         11               obl  False          1   \n",
       "9    PRON          33         19              nmod  False         24   \n",
       "10   NOUN          33         16              conj  False          8   \n",
       "11   PRON          33         23              iobj  False         16   \n",
       "12   PRON          33         23              conj  False          8   \n",
       "13   PRON          33         33             nsubj  False         18   \n",
       "14   PRON          33         38             nsubj   True         18   \n",
       "15   PRON          33         38               obj   True         23   \n",
       "16  PROPN          -1         -1              root  False         14   \n",
       "17   PRON          -1          5              nmod   True         24   \n",
       "18  PROPN          -1         -1              root  False         14   \n",
       "19   PRON          -1          5              nmod   True         24   \n",
       "\n",
       "    predPOS_  argPOS_  \n",
       "0          0        2  \n",
       "1          0        0  \n",
       "2          0        0  \n",
       "3          0        1  \n",
       "4          0        1  \n",
       "5          0        2  \n",
       "6          0        0  \n",
       "7          0        2  \n",
       "8          0        0  \n",
       "9          0        1  \n",
       "10         0        0  \n",
       "11         0        1  \n",
       "12         0        1  \n",
       "13         0        1  \n",
       "14         0        1  \n",
       "15         0        1  \n",
       "16         0        3  \n",
       "17         0        1  \n",
       "18         0        3  \n",
       "19         0        1  "
      ]
     },
     "execution_count": 187,
     "metadata": {},
     "output_type": "execute_result"
    }
   ],
   "source": [
    "train_data[:20]"
   ]
  },
  {
   "cell_type": "code",
   "execution_count": 188,
   "metadata": {},
   "outputs": [],
   "source": [
    "X_train = train_data.drop(['isRel', 'predLem', 'argLem', 'predicate', 'argument', 'predPOS', 'argPOS', 'argParentRelation'], axis=1)\n",
    "y_train = train_data.isRel.map(isRel)\n",
    "X_test = test_data.drop(['isRel', 'predLem', 'argLem', 'predicate', 'argument', 'predPOS', 'argPOS', 'argParentRelation'], axis=1)\n",
    "y_test = test_data.isRel.map(isRel)"
   ]
  },
  {
   "cell_type": "code",
   "execution_count": 189,
   "metadata": {},
   "outputs": [
    {
     "data": {
      "text/html": [
       "<div>\n",
       "<style scoped>\n",
       "    .dataframe tbody tr th:only-of-type {\n",
       "        vertical-align: middle;\n",
       "    }\n",
       "\n",
       "    .dataframe tbody tr th {\n",
       "        vertical-align: top;\n",
       "    }\n",
       "\n",
       "    .dataframe thead th {\n",
       "        text-align: right;\n",
       "    }\n",
       "</style>\n",
       "<table border=\"1\" class=\"dataframe\">\n",
       "  <thead>\n",
       "    <tr style=\"text-align: right;\">\n",
       "      <th></th>\n",
       "      <th>predNum</th>\n",
       "      <th>argNum</th>\n",
       "      <th>predParent</th>\n",
       "      <th>argParent</th>\n",
       "      <th>argParRel</th>\n",
       "      <th>predPOS_</th>\n",
       "      <th>argPOS_</th>\n",
       "    </tr>\n",
       "  </thead>\n",
       "  <tbody>\n",
       "    <tr>\n",
       "      <th>0</th>\n",
       "      <td>38</td>\n",
       "      <td>0</td>\n",
       "      <td>33</td>\n",
       "      <td>1</td>\n",
       "      <td>26</td>\n",
       "      <td>0</td>\n",
       "      <td>2</td>\n",
       "    </tr>\n",
       "    <tr>\n",
       "      <th>1</th>\n",
       "      <td>38</td>\n",
       "      <td>1</td>\n",
       "      <td>33</td>\n",
       "      <td>2</td>\n",
       "      <td>18</td>\n",
       "      <td>0</td>\n",
       "      <td>0</td>\n",
       "    </tr>\n",
       "    <tr>\n",
       "      <th>2</th>\n",
       "      <td>38</td>\n",
       "      <td>2</td>\n",
       "      <td>33</td>\n",
       "      <td>-1</td>\n",
       "      <td>14</td>\n",
       "      <td>0</td>\n",
       "      <td>0</td>\n",
       "    </tr>\n",
       "    <tr>\n",
       "      <th>3</th>\n",
       "      <td>38</td>\n",
       "      <td>6</td>\n",
       "      <td>33</td>\n",
       "      <td>2</td>\n",
       "      <td>17</td>\n",
       "      <td>0</td>\n",
       "      <td>1</td>\n",
       "    </tr>\n",
       "    <tr>\n",
       "      <th>4</th>\n",
       "      <td>38</td>\n",
       "      <td>10</td>\n",
       "      <td>33</td>\n",
       "      <td>11</td>\n",
       "      <td>18</td>\n",
       "      <td>0</td>\n",
       "      <td>1</td>\n",
       "    </tr>\n",
       "  </tbody>\n",
       "</table>\n",
       "</div>"
      ],
      "text/plain": [
       "   predNum  argNum  predParent  argParent  argParRel  predPOS_  argPOS_\n",
       "0       38       0          33          1         26         0        2\n",
       "1       38       1          33          2         18         0        0\n",
       "2       38       2          33         -1         14         0        0\n",
       "3       38       6          33          2         17         0        1\n",
       "4       38      10          33         11         18         0        1"
      ]
     },
     "execution_count": 189,
     "metadata": {},
     "output_type": "execute_result"
    }
   ],
   "source": [
    "X_train[:5]"
   ]
  },
  {
   "cell_type": "code",
   "execution_count": 190,
   "metadata": {},
   "outputs": [
    {
     "data": {
      "text/plain": [
       "RandomForestClassifier(n_estimators=1000, random_state=42)"
      ]
     },
     "execution_count": 190,
     "metadata": {},
     "output_type": "execute_result"
    }
   ],
   "source": [
    "from sklearn.ensemble import RandomForestClassifier\n",
    "\n",
    "clf = RandomForestClassifier(n_estimators=1000, random_state=42) \n",
    "clf.fit(X_train, y_train) "
   ]
  },
  {
   "cell_type": "code",
   "execution_count": 191,
   "metadata": {},
   "outputs": [],
   "source": [
    "y_train_pred = clf.predict(X_train)\n",
    "y_test_pred = clf.predict(X_test) "
   ]
  },
  {
   "cell_type": "markdown",
   "metadata": {
    "id": "9iM52sgL2EsI"
   },
   "source": [
    "#### Функции для проверки качества\n",
    "\n",
    "Измеряем качество стандартным способом, получив таблицу признаков и бинарный результирующий вектор. Приведена демонстрация качества извлечения ролей, если в качестве аргументов предиката брать все существительные в том же предложении. \n",
    "\n",
    "**В примере первые 30 записей корпуса, при решении домашнего задания нужно использовать весь!**"
   ]
  },
  {
   "cell_type": "code",
   "execution_count": 192,
   "metadata": {
    "id": "Qat52j3Z-mBy"
   },
   "outputs": [],
   "source": [
    "def score(train_pred, train_true, test_pred, test_true):\n",
    "    train_precision = (train_pred & train_true).sum() / max(train_pred.sum(), 1)\n",
    "    train_recall = (train_pred & train_true).sum() / train_true.sum()\n",
    "    train_f1 = 2 * (train_precision * train_recall) / max(train_precision + train_recall, 1e-8)\n",
    "    train_acc = (train_pred == train_true).mean()\n",
    "    \n",
    "    test_precision = (test_pred & test_true).sum() / max(test_pred.sum(), 1)\n",
    "    test_recall = (test_pred & test_true).sum() / test_true.sum()\n",
    "    test_f1 = 2 * (test_precision * test_recall) / max(test_precision + test_recall, 1e-8)\n",
    "    test_acc = (test_pred == test_true).mean()\n",
    "    print(f'train f1: {train_f1:.4f}')\n",
    "    print(f'train precision: {train_precision:.4f}')\n",
    "    print(f'train recall: {train_recall:.4f}')\n",
    "    print(f'train accuracy: {train_acc:.4f}')\n",
    "    print(f'test f1: {test_f1:.4f}')\n",
    "    print(f'test precision: {test_precision:.4f}')\n",
    "    print(f'test recall: {test_recall:.4f}')\n",
    "    print(f'test accuracy: {test_acc:.4f}')"
   ]
  },
  {
   "cell_type": "code",
   "execution_count": 193,
   "metadata": {
    "colab": {
     "base_uri": "https://localhost:8080/"
    },
    "executionInfo": {
     "elapsed": 344,
     "status": "ok",
     "timestamp": 1631719530379,
     "user": {
      "displayName": "Elena Chistova",
      "photoUrl": "https://lh3.googleusercontent.com/a/default-user=s64",
      "userId": "12812817226965674873"
     },
     "user_tz": -180
    },
    "id": "HsOaeUnv-rp6",
    "outputId": "4490ad75-8195-40d5-ceac-6ab1eb5c4dde"
   },
   "outputs": [
    {
     "name": "stdout",
     "output_type": "stream",
     "text": [
      "train f1: 0.9931\n",
      "train precision: 0.9925\n",
      "train recall: 0.9937\n",
      "train accuracy: 0.9977\n",
      "test f1: 0.5697\n",
      "test precision: 0.7731\n",
      "test recall: 0.4510\n",
      "test accuracy: 0.8857\n"
     ]
    }
   ],
   "source": [
    "score(y_train_pred, y_train, y_test_pred, y_test)"
   ]
  },
  {
   "cell_type": "markdown",
   "metadata": {},
   "source": [
    "### Комментарий"
   ]
  },
  {
   "cell_type": "markdown",
   "metadata": {},
   "source": [
    "Лучшей точности получилось достичь без использования закодированных предикатов и аргументов (например при векторизации с помощью CountVectorizer по словарю всех слов), возможно я упустил какой-то эффективный способ численного представления слов. Я использовал следующие признаки: порядковые номера предиката и аргумента, номера их родительских узлов, закодированное значение argParentRelation и закодированные значения postags"
   ]
  },
  {
   "cell_type": "code",
   "execution_count": null,
   "metadata": {},
   "outputs": [],
   "source": []
  }
 ],
 "metadata": {
  "colab": {
   "collapsed_sections": [],
   "name": "4_syntax.ipynb",
   "provenance": []
  },
  "kernelspec": {
   "display_name": "Python 3 (ipykernel)",
   "language": "python",
   "name": "python3"
  },
  "language_info": {
   "codemirror_mode": {
    "name": "ipython",
    "version": 3
   },
   "file_extension": ".py",
   "mimetype": "text/x-python",
   "name": "python",
   "nbconvert_exporter": "python",
   "pygments_lexer": "ipython3",
   "version": "3.9.13"
  }
 },
 "nbformat": 4,
 "nbformat_minor": 1
}
